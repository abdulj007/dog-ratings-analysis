{
 "cells": [
  {
   "cell_type": "code",
   "execution_count": 132,
   "id": "a5fb1d81",
   "metadata": {},
   "outputs": [],
   "source": [
    "import os\n",
    "import pandas as pd\n",
    "import numpy as np\n",
    "import requests\n",
    "from io import StringIO\n",
    "# !pip install tweepy --user\n",
    "import tweepy\n",
    "import timeit\n",
    "import json\n",
    "import re\n",
    "import seaborn as sns\n",
    "import matplotlib.pyplot as plt\n",
    "%matplotlib inline"
   ]
  },
  {
   "cell_type": "markdown",
   "id": "ca8b3585",
   "metadata": {},
   "source": [
    "<h1>Gathering Data</h1>"
   ]
  },
  {
   "cell_type": "markdown",
   "id": "3fa03b27",
   "metadata": {},
   "source": [
    "**Twitter Archive file downloaded manually**"
   ]
  },
  {
   "cell_type": "code",
   "execution_count": 133,
   "id": "6f3d2a55",
   "metadata": {},
   "outputs": [],
   "source": [
    "twitter_archive = pd.read_csv(r'twitter-archive-enhanced.csv')"
   ]
  },
  {
   "cell_type": "markdown",
   "id": "40c42844",
   "metadata": {},
   "source": [
    "**Image predictions table downloaded programmatically**"
   ]
  },
  {
   "cell_type": "code",
   "execution_count": 19,
   "id": "47df4ff1",
   "metadata": {},
   "outputs": [],
   "source": [
    "\n",
    "url = 'https://d17h27t6h515a5.cloudfront.net/topher/2017/August/599fd2ad_image-predictions/image-predictions.tsv'\n",
    "response = requests.get(url)\n",
    "resp = response.content\n",
    "with open('image-predictions.tsv',mode='wb') as file:\n",
    "    file.write(resp)"
   ]
  },
  {
   "cell_type": "code",
   "execution_count": 25,
   "id": "e8a138c4",
   "metadata": {},
   "outputs": [],
   "source": [
    "image_predictions=pd.read_csv('image-predictions.tsv',sep='\\t')"
   ]
  },
  {
   "cell_type": "code",
   "execution_count": 134,
   "id": "d4ac188c",
   "metadata": {},
   "outputs": [
    {
     "data": {
      "text/html": [
       "<div>\n",
       "<style scoped>\n",
       "    .dataframe tbody tr th:only-of-type {\n",
       "        vertical-align: middle;\n",
       "    }\n",
       "\n",
       "    .dataframe tbody tr th {\n",
       "        vertical-align: top;\n",
       "    }\n",
       "\n",
       "    .dataframe thead th {\n",
       "        text-align: right;\n",
       "    }\n",
       "</style>\n",
       "<table border=\"1\" class=\"dataframe\">\n",
       "  <thead>\n",
       "    <tr style=\"text-align: right;\">\n",
       "      <th></th>\n",
       "      <th>tweet_id</th>\n",
       "      <th>jpg_url</th>\n",
       "      <th>img_num</th>\n",
       "      <th>p1</th>\n",
       "      <th>p1_conf</th>\n",
       "      <th>p1_dog</th>\n",
       "      <th>p2</th>\n",
       "      <th>p2_conf</th>\n",
       "      <th>p2_dog</th>\n",
       "      <th>p3</th>\n",
       "      <th>p3_conf</th>\n",
       "      <th>p3_dog</th>\n",
       "    </tr>\n",
       "  </thead>\n",
       "  <tbody>\n",
       "    <tr>\n",
       "      <th>0</th>\n",
       "      <td>666020888022790149</td>\n",
       "      <td>https://pbs.twimg.com/media/CT4udn0WwAA0aMy.jpg</td>\n",
       "      <td>1</td>\n",
       "      <td>Welsh_springer_spaniel</td>\n",
       "      <td>0.465074</td>\n",
       "      <td>True</td>\n",
       "      <td>collie</td>\n",
       "      <td>0.156665</td>\n",
       "      <td>True</td>\n",
       "      <td>Shetland_sheepdog</td>\n",
       "      <td>0.061428</td>\n",
       "      <td>True</td>\n",
       "    </tr>\n",
       "    <tr>\n",
       "      <th>1</th>\n",
       "      <td>666029285002620928</td>\n",
       "      <td>https://pbs.twimg.com/media/CT42GRgUYAA5iDo.jpg</td>\n",
       "      <td>1</td>\n",
       "      <td>redbone</td>\n",
       "      <td>0.506826</td>\n",
       "      <td>True</td>\n",
       "      <td>miniature_pinscher</td>\n",
       "      <td>0.074192</td>\n",
       "      <td>True</td>\n",
       "      <td>Rhodesian_ridgeback</td>\n",
       "      <td>0.072010</td>\n",
       "      <td>True</td>\n",
       "    </tr>\n",
       "    <tr>\n",
       "      <th>2</th>\n",
       "      <td>666033412701032449</td>\n",
       "      <td>https://pbs.twimg.com/media/CT4521TWwAEvMyu.jpg</td>\n",
       "      <td>1</td>\n",
       "      <td>German_shepherd</td>\n",
       "      <td>0.596461</td>\n",
       "      <td>True</td>\n",
       "      <td>malinois</td>\n",
       "      <td>0.138584</td>\n",
       "      <td>True</td>\n",
       "      <td>bloodhound</td>\n",
       "      <td>0.116197</td>\n",
       "      <td>True</td>\n",
       "    </tr>\n",
       "    <tr>\n",
       "      <th>3</th>\n",
       "      <td>666044226329800704</td>\n",
       "      <td>https://pbs.twimg.com/media/CT5Dr8HUEAA-lEu.jpg</td>\n",
       "      <td>1</td>\n",
       "      <td>Rhodesian_ridgeback</td>\n",
       "      <td>0.408143</td>\n",
       "      <td>True</td>\n",
       "      <td>redbone</td>\n",
       "      <td>0.360687</td>\n",
       "      <td>True</td>\n",
       "      <td>miniature_pinscher</td>\n",
       "      <td>0.222752</td>\n",
       "      <td>True</td>\n",
       "    </tr>\n",
       "    <tr>\n",
       "      <th>4</th>\n",
       "      <td>666049248165822465</td>\n",
       "      <td>https://pbs.twimg.com/media/CT5IQmsXIAAKY4A.jpg</td>\n",
       "      <td>1</td>\n",
       "      <td>miniature_pinscher</td>\n",
       "      <td>0.560311</td>\n",
       "      <td>True</td>\n",
       "      <td>Rottweiler</td>\n",
       "      <td>0.243682</td>\n",
       "      <td>True</td>\n",
       "      <td>Doberman</td>\n",
       "      <td>0.154629</td>\n",
       "      <td>True</td>\n",
       "    </tr>\n",
       "  </tbody>\n",
       "</table>\n",
       "</div>"
      ],
      "text/plain": [
       "             tweet_id                                          jpg_url  \\\n",
       "0  666020888022790149  https://pbs.twimg.com/media/CT4udn0WwAA0aMy.jpg   \n",
       "1  666029285002620928  https://pbs.twimg.com/media/CT42GRgUYAA5iDo.jpg   \n",
       "2  666033412701032449  https://pbs.twimg.com/media/CT4521TWwAEvMyu.jpg   \n",
       "3  666044226329800704  https://pbs.twimg.com/media/CT5Dr8HUEAA-lEu.jpg   \n",
       "4  666049248165822465  https://pbs.twimg.com/media/CT5IQmsXIAAKY4A.jpg   \n",
       "\n",
       "   img_num                      p1   p1_conf  p1_dog                  p2  \\\n",
       "0        1  Welsh_springer_spaniel  0.465074    True              collie   \n",
       "1        1                 redbone  0.506826    True  miniature_pinscher   \n",
       "2        1         German_shepherd  0.596461    True            malinois   \n",
       "3        1     Rhodesian_ridgeback  0.408143    True             redbone   \n",
       "4        1      miniature_pinscher  0.560311    True          Rottweiler   \n",
       "\n",
       "    p2_conf  p2_dog                   p3   p3_conf  p3_dog  \n",
       "0  0.156665    True    Shetland_sheepdog  0.061428    True  \n",
       "1  0.074192    True  Rhodesian_ridgeback  0.072010    True  \n",
       "2  0.138584    True           bloodhound  0.116197    True  \n",
       "3  0.360687    True   miniature_pinscher  0.222752    True  \n",
       "4  0.243682    True             Doberman  0.154629    True  "
      ]
     },
     "execution_count": 134,
     "metadata": {},
     "output_type": "execute_result"
    }
   ],
   "source": [
    "image_predictions.head()"
   ]
  },
  {
   "cell_type": "code",
   "execution_count": 135,
   "id": "9974bba8",
   "metadata": {},
   "outputs": [
    {
     "name": "stdout",
     "output_type": "stream",
     "text": [
      "<class 'pandas.core.frame.DataFrame'>\n",
      "RangeIndex: 2075 entries, 0 to 2074\n",
      "Data columns (total 12 columns):\n",
      " #   Column    Non-Null Count  Dtype  \n",
      "---  ------    --------------  -----  \n",
      " 0   tweet_id  2075 non-null   int64  \n",
      " 1   jpg_url   2075 non-null   object \n",
      " 2   img_num   2075 non-null   int64  \n",
      " 3   p1        2075 non-null   object \n",
      " 4   p1_conf   2075 non-null   float64\n",
      " 5   p1_dog    2075 non-null   bool   \n",
      " 6   p2        2075 non-null   object \n",
      " 7   p2_conf   2075 non-null   float64\n",
      " 8   p2_dog    2075 non-null   bool   \n",
      " 9   p3        2075 non-null   object \n",
      " 10  p3_conf   2075 non-null   float64\n",
      " 11  p3_dog    2075 non-null   bool   \n",
      "dtypes: bool(3), float64(3), int64(2), object(4)\n",
      "memory usage: 152.1+ KB\n"
     ]
    }
   ],
   "source": [
    "image_predictions.info(\n",
    ")"
   ]
  },
  {
   "cell_type": "code",
   "execution_count": 136,
   "id": "38d5e030",
   "metadata": {},
   "outputs": [
    {
     "data": {
      "text/html": [
       "<div>\n",
       "<style scoped>\n",
       "    .dataframe tbody tr th:only-of-type {\n",
       "        vertical-align: middle;\n",
       "    }\n",
       "\n",
       "    .dataframe tbody tr th {\n",
       "        vertical-align: top;\n",
       "    }\n",
       "\n",
       "    .dataframe thead th {\n",
       "        text-align: right;\n",
       "    }\n",
       "</style>\n",
       "<table border=\"1\" class=\"dataframe\">\n",
       "  <thead>\n",
       "    <tr style=\"text-align: right;\">\n",
       "      <th></th>\n",
       "      <th>tweet_id</th>\n",
       "      <th>in_reply_to_status_id</th>\n",
       "      <th>in_reply_to_user_id</th>\n",
       "      <th>timestamp</th>\n",
       "      <th>source</th>\n",
       "      <th>text</th>\n",
       "      <th>retweeted_status_id</th>\n",
       "      <th>retweeted_status_user_id</th>\n",
       "      <th>retweeted_status_timestamp</th>\n",
       "      <th>expanded_urls</th>\n",
       "      <th>rating_numerator</th>\n",
       "      <th>rating_denominator</th>\n",
       "      <th>name</th>\n",
       "      <th>doggo</th>\n",
       "      <th>floofer</th>\n",
       "      <th>pupper</th>\n",
       "      <th>puppo</th>\n",
       "    </tr>\n",
       "  </thead>\n",
       "  <tbody>\n",
       "    <tr>\n",
       "      <th>0</th>\n",
       "      <td>892420643555336193</td>\n",
       "      <td>NaN</td>\n",
       "      <td>NaN</td>\n",
       "      <td>2017-08-01 16:23:56 +0000</td>\n",
       "      <td>&lt;a href=\"http://twitter.com/download/iphone\" rel=\"nofollow\"&gt;Twitter for iPhone&lt;/a&gt;</td>\n",
       "      <td>This is Phineas. He's a mystical boy. Only ever appears in the hole of a donut. 13/10 https://t.co/MgUWQ76dJU</td>\n",
       "      <td>NaN</td>\n",
       "      <td>NaN</td>\n",
       "      <td>NaN</td>\n",
       "      <td>https://twitter.com/dog_rates/status/892420643555336193/photo/1</td>\n",
       "      <td>13</td>\n",
       "      <td>10</td>\n",
       "      <td>Phineas</td>\n",
       "      <td>None</td>\n",
       "      <td>None</td>\n",
       "      <td>None</td>\n",
       "      <td>None</td>\n",
       "    </tr>\n",
       "    <tr>\n",
       "      <th>1</th>\n",
       "      <td>892177421306343426</td>\n",
       "      <td>NaN</td>\n",
       "      <td>NaN</td>\n",
       "      <td>2017-08-01 00:17:27 +0000</td>\n",
       "      <td>&lt;a href=\"http://twitter.com/download/iphone\" rel=\"nofollow\"&gt;Twitter for iPhone&lt;/a&gt;</td>\n",
       "      <td>This is Tilly. She's just checking pup on you. Hopes you're doing ok. If not, she's available for pats, snugs, boops, the whole bit. 13/10 https://t.co/0Xxu71qeIV</td>\n",
       "      <td>NaN</td>\n",
       "      <td>NaN</td>\n",
       "      <td>NaN</td>\n",
       "      <td>https://twitter.com/dog_rates/status/892177421306343426/photo/1</td>\n",
       "      <td>13</td>\n",
       "      <td>10</td>\n",
       "      <td>Tilly</td>\n",
       "      <td>None</td>\n",
       "      <td>None</td>\n",
       "      <td>None</td>\n",
       "      <td>None</td>\n",
       "    </tr>\n",
       "    <tr>\n",
       "      <th>2</th>\n",
       "      <td>891815181378084864</td>\n",
       "      <td>NaN</td>\n",
       "      <td>NaN</td>\n",
       "      <td>2017-07-31 00:18:03 +0000</td>\n",
       "      <td>&lt;a href=\"http://twitter.com/download/iphone\" rel=\"nofollow\"&gt;Twitter for iPhone&lt;/a&gt;</td>\n",
       "      <td>This is Archie. He is a rare Norwegian Pouncing Corgo. Lives in the tall grass. You never know when one may strike. 12/10 https://t.co/wUnZnhtVJB</td>\n",
       "      <td>NaN</td>\n",
       "      <td>NaN</td>\n",
       "      <td>NaN</td>\n",
       "      <td>https://twitter.com/dog_rates/status/891815181378084864/photo/1</td>\n",
       "      <td>12</td>\n",
       "      <td>10</td>\n",
       "      <td>Archie</td>\n",
       "      <td>None</td>\n",
       "      <td>None</td>\n",
       "      <td>None</td>\n",
       "      <td>None</td>\n",
       "    </tr>\n",
       "    <tr>\n",
       "      <th>3</th>\n",
       "      <td>891689557279858688</td>\n",
       "      <td>NaN</td>\n",
       "      <td>NaN</td>\n",
       "      <td>2017-07-30 15:58:51 +0000</td>\n",
       "      <td>&lt;a href=\"http://twitter.com/download/iphone\" rel=\"nofollow\"&gt;Twitter for iPhone&lt;/a&gt;</td>\n",
       "      <td>This is Darla. She commenced a snooze mid meal. 13/10 happens to the best of us https://t.co/tD36da7qLQ</td>\n",
       "      <td>NaN</td>\n",
       "      <td>NaN</td>\n",
       "      <td>NaN</td>\n",
       "      <td>https://twitter.com/dog_rates/status/891689557279858688/photo/1</td>\n",
       "      <td>13</td>\n",
       "      <td>10</td>\n",
       "      <td>Darla</td>\n",
       "      <td>None</td>\n",
       "      <td>None</td>\n",
       "      <td>None</td>\n",
       "      <td>None</td>\n",
       "    </tr>\n",
       "    <tr>\n",
       "      <th>4</th>\n",
       "      <td>891327558926688256</td>\n",
       "      <td>NaN</td>\n",
       "      <td>NaN</td>\n",
       "      <td>2017-07-29 16:00:24 +0000</td>\n",
       "      <td>&lt;a href=\"http://twitter.com/download/iphone\" rel=\"nofollow\"&gt;Twitter for iPhone&lt;/a&gt;</td>\n",
       "      <td>This is Franklin. He would like you to stop calling him \"cute.\" He is a very fierce shark and should be respected as such. 12/10 #BarkWeek https://t.co/AtUZn91f7f</td>\n",
       "      <td>NaN</td>\n",
       "      <td>NaN</td>\n",
       "      <td>NaN</td>\n",
       "      <td>https://twitter.com/dog_rates/status/891327558926688256/photo/1,https://twitter.com/dog_rates/status/891327558926688256/photo/1</td>\n",
       "      <td>12</td>\n",
       "      <td>10</td>\n",
       "      <td>Franklin</td>\n",
       "      <td>None</td>\n",
       "      <td>None</td>\n",
       "      <td>None</td>\n",
       "      <td>None</td>\n",
       "    </tr>\n",
       "  </tbody>\n",
       "</table>\n",
       "</div>"
      ],
      "text/plain": [
       "             tweet_id  in_reply_to_status_id  in_reply_to_user_id  \\\n",
       "0  892420643555336193                    NaN                  NaN   \n",
       "1  892177421306343426                    NaN                  NaN   \n",
       "2  891815181378084864                    NaN                  NaN   \n",
       "3  891689557279858688                    NaN                  NaN   \n",
       "4  891327558926688256                    NaN                  NaN   \n",
       "\n",
       "                   timestamp  \\\n",
       "0  2017-08-01 16:23:56 +0000   \n",
       "1  2017-08-01 00:17:27 +0000   \n",
       "2  2017-07-31 00:18:03 +0000   \n",
       "3  2017-07-30 15:58:51 +0000   \n",
       "4  2017-07-29 16:00:24 +0000   \n",
       "\n",
       "                                                                               source  \\\n",
       "0  <a href=\"http://twitter.com/download/iphone\" rel=\"nofollow\">Twitter for iPhone</a>   \n",
       "1  <a href=\"http://twitter.com/download/iphone\" rel=\"nofollow\">Twitter for iPhone</a>   \n",
       "2  <a href=\"http://twitter.com/download/iphone\" rel=\"nofollow\">Twitter for iPhone</a>   \n",
       "3  <a href=\"http://twitter.com/download/iphone\" rel=\"nofollow\">Twitter for iPhone</a>   \n",
       "4  <a href=\"http://twitter.com/download/iphone\" rel=\"nofollow\">Twitter for iPhone</a>   \n",
       "\n",
       "                                                                                                                                                                 text  \\\n",
       "0                                                       This is Phineas. He's a mystical boy. Only ever appears in the hole of a donut. 13/10 https://t.co/MgUWQ76dJU   \n",
       "1  This is Tilly. She's just checking pup on you. Hopes you're doing ok. If not, she's available for pats, snugs, boops, the whole bit. 13/10 https://t.co/0Xxu71qeIV   \n",
       "2                   This is Archie. He is a rare Norwegian Pouncing Corgo. Lives in the tall grass. You never know when one may strike. 12/10 https://t.co/wUnZnhtVJB   \n",
       "3                                                             This is Darla. She commenced a snooze mid meal. 13/10 happens to the best of us https://t.co/tD36da7qLQ   \n",
       "4  This is Franklin. He would like you to stop calling him \"cute.\" He is a very fierce shark and should be respected as such. 12/10 #BarkWeek https://t.co/AtUZn91f7f   \n",
       "\n",
       "   retweeted_status_id  retweeted_status_user_id retweeted_status_timestamp  \\\n",
       "0                  NaN                       NaN                        NaN   \n",
       "1                  NaN                       NaN                        NaN   \n",
       "2                  NaN                       NaN                        NaN   \n",
       "3                  NaN                       NaN                        NaN   \n",
       "4                  NaN                       NaN                        NaN   \n",
       "\n",
       "                                                                                                                     expanded_urls  \\\n",
       "0                                                                  https://twitter.com/dog_rates/status/892420643555336193/photo/1   \n",
       "1                                                                  https://twitter.com/dog_rates/status/892177421306343426/photo/1   \n",
       "2                                                                  https://twitter.com/dog_rates/status/891815181378084864/photo/1   \n",
       "3                                                                  https://twitter.com/dog_rates/status/891689557279858688/photo/1   \n",
       "4  https://twitter.com/dog_rates/status/891327558926688256/photo/1,https://twitter.com/dog_rates/status/891327558926688256/photo/1   \n",
       "\n",
       "   rating_numerator  rating_denominator      name doggo floofer pupper puppo  \n",
       "0                13                  10   Phineas  None    None   None  None  \n",
       "1                13                  10     Tilly  None    None   None  None  \n",
       "2                12                  10    Archie  None    None   None  None  \n",
       "3                13                  10     Darla  None    None   None  None  \n",
       "4                12                  10  Franklin  None    None   None  None  "
      ]
     },
     "execution_count": 136,
     "metadata": {},
     "output_type": "execute_result"
    }
   ],
   "source": [
    "twitter_archive.head()"
   ]
  },
  {
   "cell_type": "code",
   "execution_count": 137,
   "id": "a0349dd0",
   "metadata": {
    "scrolled": true
   },
   "outputs": [
    {
     "data": {
      "text/plain": [
       "10     2333\n",
       "11        3\n",
       "50        3\n",
       "20        2\n",
       "80        2\n",
       "70        1\n",
       "7         1\n",
       "15        1\n",
       "150       1\n",
       "170       1\n",
       "0         1\n",
       "90        1\n",
       "40        1\n",
       "130       1\n",
       "110       1\n",
       "16        1\n",
       "120       1\n",
       "2         1\n",
       "Name: rating_denominator, dtype: int64"
      ]
     },
     "execution_count": 137,
     "metadata": {},
     "output_type": "execute_result"
    }
   ],
   "source": [
    "twitter_archive['rating_denominator'].value_counts()"
   ]
  },
  {
   "cell_type": "code",
   "execution_count": 138,
   "id": "41baf533",
   "metadata": {
    "scrolled": true
   },
   "outputs": [
    {
     "name": "stdout",
     "output_type": "stream",
     "text": [
      "<class 'pandas.core.frame.DataFrame'>\n",
      "RangeIndex: 2356 entries, 0 to 2355\n",
      "Data columns (total 17 columns):\n",
      " #   Column                      Non-Null Count  Dtype  \n",
      "---  ------                      --------------  -----  \n",
      " 0   tweet_id                    2356 non-null   int64  \n",
      " 1   in_reply_to_status_id       78 non-null     float64\n",
      " 2   in_reply_to_user_id         78 non-null     float64\n",
      " 3   timestamp                   2356 non-null   object \n",
      " 4   source                      2356 non-null   object \n",
      " 5   text                        2356 non-null   object \n",
      " 6   retweeted_status_id         181 non-null    float64\n",
      " 7   retweeted_status_user_id    181 non-null    float64\n",
      " 8   retweeted_status_timestamp  181 non-null    object \n",
      " 9   expanded_urls               2297 non-null   object \n",
      " 10  rating_numerator            2356 non-null   int64  \n",
      " 11  rating_denominator          2356 non-null   int64  \n",
      " 12  name                        2356 non-null   object \n",
      " 13  doggo                       2356 non-null   object \n",
      " 14  floofer                     2356 non-null   object \n",
      " 15  pupper                      2356 non-null   object \n",
      " 16  puppo                       2356 non-null   object \n",
      "dtypes: float64(4), int64(3), object(10)\n",
      "memory usage: 313.0+ KB\n"
     ]
    }
   ],
   "source": [
    "twitter_archive.info()"
   ]
  },
  {
   "cell_type": "markdown",
   "id": "845ef82f",
   "metadata": {},
   "source": [
    "**Get additional Data from Twitter using Tweepy library**"
   ]
  },
  {
   "cell_type": "code",
   "execution_count": 1,
   "id": "9a8a55be",
   "metadata": {},
   "outputs": [],
   "source": [
    "consumer_key = ''\n",
    "consumer_secret = ''\n",
    "access_token = ''\n",
    "access_secret = ''\n",
    "auth = tweepy.OAuthHandler(consumer_key, consumer_secret)\n",
    "auth.set_access_token(access_token, access_secret)\n",
    "api = tweepy.API(auth,wait_on_rate_limit=True)\n",
    "\n",
    "# tweet_id status with live tweets will be stored in live_tweets list\n",
    "live_tweets = []\n",
    "# tweet_id with deleted tweets will be noted down in lost_tweets\n",
    "lost_tweets = []\n",
    "\n",
    "for tweet_id in twitter_archive['tweet_id']:   \n",
    "    try:\n",
    "    \n",
    "        live_tweets.append(api.get_status(tweet_id))\n",
    "    except Exception as e:\n",
    "        lost_tweets.append(tweet_id)"
   ]
  },
  {
   "cell_type": "code",
   "execution_count": 42,
   "id": "c89f989b",
   "metadata": {},
   "outputs": [],
   "source": [
    "#Get the json text from status object\n",
    "json_list = []\n",
    "for tweet_id_json in live_tweets:\n",
    "    json_list.append(tweet_id_json._json)"
   ]
  },
  {
   "cell_type": "code",
   "execution_count": 46,
   "id": "11b9aace",
   "metadata": {},
   "outputs": [],
   "source": [
    "#we write this list into a txt file\n",
    "with open('tweet_json.txt', 'w') as file:\n",
    "        file.write(json.dumps(json_list, indent=4))"
   ]
  },
  {
   "cell_type": "code",
   "execution_count": 139,
   "id": "88f1efbf",
   "metadata": {},
   "outputs": [],
   "source": [
    "#Read json text into dataframe, line by line\n",
    "df_json = []\n",
    "with open('tweet_json.txt',encoding='utf-8') as file:\n",
    "    tweetfile = json.load(file)\n",
    "    for line in tweetfile:\n",
    "        \n",
    "        id_str = line['id']\n",
    "        retweet_count = line['retweet_count']\n",
    "        favorite_count = line['favorite_count']\n",
    "        created_at = line['created_at']\n",
    "        text = line['text']\n",
    "        favorited = line['favorited']\n",
    "        retweeted = line['retweeted']\n",
    "        df_json.append({'retweet_count' : retweet_count,\n",
    "                  'favorite_count' : favorite_count,\n",
    "                  'created_at' : created_at,\n",
    "                  'id' : id_str,\n",
    "                   'text':text,\n",
    "                   'favorited':favorited,\n",
    "                    'retweeted':retweeted})\n",
    "        \n",
    "df_json = pd.DataFrame(df_json, columns = ['id', 'retweet_count', 'favorite_count', 'created_at','text','favorited','retweeted'])"
   ]
  },
  {
   "cell_type": "code",
   "execution_count": 48,
   "id": "1566a4ea",
   "metadata": {
    "scrolled": true
   },
   "outputs": [
    {
     "data": {
      "text/plain": [
       "30"
      ]
     },
     "execution_count": 48,
     "metadata": {},
     "output_type": "execute_result"
    }
   ],
   "source": [
    "#Number 0f lost tweets\n",
    "len(lost_tweets)"
   ]
  },
  {
   "cell_type": "code",
   "execution_count": 140,
   "id": "64c6a6e4",
   "metadata": {},
   "outputs": [
    {
     "data": {
      "text/plain": [
       "Index(['id', 'retweet_count', 'favorite_count', 'created_at', 'text',\n",
       "       'favorited', 'retweeted'],\n",
       "      dtype='object')"
      ]
     },
     "execution_count": 140,
     "metadata": {},
     "output_type": "execute_result"
    }
   ],
   "source": [
    "df_json.columns"
   ]
  },
  {
   "cell_type": "markdown",
   "id": "d416ebde",
   "metadata": {},
   "source": [
    "<h1>ASSESSING DATA</h1>"
   ]
  },
  {
   "cell_type": "markdown",
   "id": "b3f7c11a",
   "metadata": {},
   "source": [
    "**Programmatic Assessment**"
   ]
  },
  {
   "cell_type": "code",
   "execution_count": 141,
   "id": "e2c61419",
   "metadata": {
    "scrolled": false
   },
   "outputs": [
    {
     "name": "stdout",
     "output_type": "stream",
     "text": [
      "<class 'pandas.core.frame.DataFrame'>\n",
      "RangeIndex: 2356 entries, 0 to 2355\n",
      "Data columns (total 17 columns):\n",
      " #   Column                      Non-Null Count  Dtype  \n",
      "---  ------                      --------------  -----  \n",
      " 0   tweet_id                    2356 non-null   int64  \n",
      " 1   in_reply_to_status_id       78 non-null     float64\n",
      " 2   in_reply_to_user_id         78 non-null     float64\n",
      " 3   timestamp                   2356 non-null   object \n",
      " 4   source                      2356 non-null   object \n",
      " 5   text                        2356 non-null   object \n",
      " 6   retweeted_status_id         181 non-null    float64\n",
      " 7   retweeted_status_user_id    181 non-null    float64\n",
      " 8   retweeted_status_timestamp  181 non-null    object \n",
      " 9   expanded_urls               2297 non-null   object \n",
      " 10  rating_numerator            2356 non-null   int64  \n",
      " 11  rating_denominator          2356 non-null   int64  \n",
      " 12  name                        2356 non-null   object \n",
      " 13  doggo                       2356 non-null   object \n",
      " 14  floofer                     2356 non-null   object \n",
      " 15  pupper                      2356 non-null   object \n",
      " 16  puppo                       2356 non-null   object \n",
      "dtypes: float64(4), int64(3), object(10)\n",
      "memory usage: 313.0+ KB\n"
     ]
    }
   ],
   "source": [
    "twitter_archive.info()"
   ]
  },
  {
   "cell_type": "code",
   "execution_count": 142,
   "id": "19e13a5c",
   "metadata": {
    "scrolled": true
   },
   "outputs": [
    {
     "name": "stdout",
     "output_type": "stream",
     "text": [
      "<class 'pandas.core.frame.DataFrame'>\n",
      "RangeIndex: 2326 entries, 0 to 2325\n",
      "Data columns (total 7 columns):\n",
      " #   Column          Non-Null Count  Dtype \n",
      "---  ------          --------------  ----- \n",
      " 0   id              2326 non-null   int64 \n",
      " 1   retweet_count   2326 non-null   int64 \n",
      " 2   favorite_count  2326 non-null   int64 \n",
      " 3   created_at      2326 non-null   object\n",
      " 4   text            2326 non-null   object\n",
      " 5   favorited       2326 non-null   bool  \n",
      " 6   retweeted       2326 non-null   bool  \n",
      "dtypes: bool(2), int64(3), object(2)\n",
      "memory usage: 95.5+ KB\n"
     ]
    }
   ],
   "source": [
    "df_json.info()"
   ]
  },
  {
   "cell_type": "code",
   "execution_count": 143,
   "id": "558f821d",
   "metadata": {
    "scrolled": true
   },
   "outputs": [
    {
     "name": "stdout",
     "output_type": "stream",
     "text": [
      "<class 'pandas.core.frame.DataFrame'>\n",
      "RangeIndex: 2075 entries, 0 to 2074\n",
      "Data columns (total 12 columns):\n",
      " #   Column    Non-Null Count  Dtype  \n",
      "---  ------    --------------  -----  \n",
      " 0   tweet_id  2075 non-null   int64  \n",
      " 1   jpg_url   2075 non-null   object \n",
      " 2   img_num   2075 non-null   int64  \n",
      " 3   p1        2075 non-null   object \n",
      " 4   p1_conf   2075 non-null   float64\n",
      " 5   p1_dog    2075 non-null   bool   \n",
      " 6   p2        2075 non-null   object \n",
      " 7   p2_conf   2075 non-null   float64\n",
      " 8   p2_dog    2075 non-null   bool   \n",
      " 9   p3        2075 non-null   object \n",
      " 10  p3_conf   2075 non-null   float64\n",
      " 11  p3_dog    2075 non-null   bool   \n",
      "dtypes: bool(3), float64(3), int64(2), object(4)\n",
      "memory usage: 152.1+ KB\n"
     ]
    }
   ],
   "source": [
    "image_predictions.info()"
   ]
  },
  {
   "cell_type": "code",
   "execution_count": 144,
   "id": "2c79bb02",
   "metadata": {
    "scrolled": false
   },
   "outputs": [
    {
     "data": {
      "text/plain": [
       "0                                                                    https://twitter.com/dog_rates/status/892420643555336193/photo/1\n",
       "1                                                                    https://twitter.com/dog_rates/status/892177421306343426/photo/1\n",
       "2                                                                    https://twitter.com/dog_rates/status/891815181378084864/photo/1\n",
       "3                                                                    https://twitter.com/dog_rates/status/891689557279858688/photo/1\n",
       "4    https://twitter.com/dog_rates/status/891327558926688256/photo/1,https://twitter.com/dog_rates/status/891327558926688256/photo/1\n",
       "5                                                                    https://twitter.com/dog_rates/status/891087950875897856/photo/1\n",
       "6                        https://gofundme.com/ydvmve-surgery-for-jax,https://twitter.com/dog_rates/status/890971913173991426/photo/1\n",
       "7    https://twitter.com/dog_rates/status/890729181411237888/photo/1,https://twitter.com/dog_rates/status/890729181411237888/photo/1\n",
       "8                                                                    https://twitter.com/dog_rates/status/890609185150312448/photo/1\n",
       "9                                                                    https://twitter.com/dog_rates/status/890240255349198849/photo/1\n",
       "Name: expanded_urls, dtype: object"
      ]
     },
     "execution_count": 144,
     "metadata": {},
     "output_type": "execute_result"
    }
   ],
   "source": [
    "twitter_archive['expanded_urls'].head(10)"
   ]
  },
  {
   "cell_type": "code",
   "execution_count": 145,
   "id": "1d39ddf6",
   "metadata": {
    "scrolled": false
   },
   "outputs": [
    {
     "data": {
      "text/plain": [
       "181"
      ]
     },
     "execution_count": 145,
     "metadata": {},
     "output_type": "execute_result"
    }
   ],
   "source": [
    "twitter_archive['retweeted_status_id'].value_counts().sum()"
   ]
  },
  {
   "cell_type": "code",
   "execution_count": 146,
   "id": "afe444fd",
   "metadata": {
    "scrolled": true
   },
   "outputs": [
    {
     "data": {
      "text/plain": [
       "12      558\n",
       "11      464\n",
       "10      461\n",
       "13      351\n",
       "9       158\n",
       "8       102\n",
       "7        55\n",
       "14       54\n",
       "5        37\n",
       "6        32\n",
       "3        19\n",
       "4        17\n",
       "2         9\n",
       "1         9\n",
       "75        2\n",
       "15        2\n",
       "420       2\n",
       "0         2\n",
       "80        1\n",
       "144       1\n",
       "17        1\n",
       "26        1\n",
       "20        1\n",
       "121       1\n",
       "143       1\n",
       "44        1\n",
       "60        1\n",
       "45        1\n",
       "50        1\n",
       "99        1\n",
       "204       1\n",
       "1776      1\n",
       "165       1\n",
       "666       1\n",
       "27        1\n",
       "182       1\n",
       "24        1\n",
       "960       1\n",
       "84        1\n",
       "88        1\n",
       "Name: rating_numerator, dtype: int64"
      ]
     },
     "execution_count": 146,
     "metadata": {},
     "output_type": "execute_result"
    }
   ],
   "source": [
    "twitter_archive['rating_numerator'].value_counts()"
   ]
  },
  {
   "cell_type": "code",
   "execution_count": 147,
   "id": "bd26aeba",
   "metadata": {
    "scrolled": false
   },
   "outputs": [
    {
     "data": {
      "text/plain": [
       "Index(['id', 'retweet_count', 'favorite_count', 'created_at', 'text',\n",
       "       'favorited', 'retweeted'],\n",
       "      dtype='object')"
      ]
     },
     "execution_count": 147,
     "metadata": {},
     "output_type": "execute_result"
    }
   ],
   "source": [
    "df_json.columns\n"
   ]
  },
  {
   "cell_type": "markdown",
   "id": "613efb1d",
   "metadata": {},
   "source": [
    "**Visual Assessment**"
   ]
  },
  {
   "cell_type": "code",
   "execution_count": 148,
   "id": "99932ca9",
   "metadata": {
    "scrolled": false
   },
   "outputs": [
    {
     "data": {
      "text/html": [
       "<div>\n",
       "<style scoped>\n",
       "    .dataframe tbody tr th:only-of-type {\n",
       "        vertical-align: middle;\n",
       "    }\n",
       "\n",
       "    .dataframe tbody tr th {\n",
       "        vertical-align: top;\n",
       "    }\n",
       "\n",
       "    .dataframe thead th {\n",
       "        text-align: right;\n",
       "    }\n",
       "</style>\n",
       "<table border=\"1\" class=\"dataframe\">\n",
       "  <thead>\n",
       "    <tr style=\"text-align: right;\">\n",
       "      <th></th>\n",
       "      <th>tweet_id</th>\n",
       "      <th>in_reply_to_status_id</th>\n",
       "      <th>in_reply_to_user_id</th>\n",
       "      <th>timestamp</th>\n",
       "      <th>source</th>\n",
       "      <th>text</th>\n",
       "      <th>retweeted_status_id</th>\n",
       "      <th>retweeted_status_user_id</th>\n",
       "      <th>retweeted_status_timestamp</th>\n",
       "      <th>expanded_urls</th>\n",
       "      <th>rating_numerator</th>\n",
       "      <th>rating_denominator</th>\n",
       "      <th>name</th>\n",
       "      <th>doggo</th>\n",
       "      <th>floofer</th>\n",
       "      <th>pupper</th>\n",
       "      <th>puppo</th>\n",
       "    </tr>\n",
       "  </thead>\n",
       "  <tbody>\n",
       "    <tr>\n",
       "      <th>2162</th>\n",
       "      <td>669393256313184256</td>\n",
       "      <td>NaN</td>\n",
       "      <td>NaN</td>\n",
       "      <td>2015-11-25 05:52:43 +0000</td>\n",
       "      <td>&lt;a href=\"http://twitter.com/download/iphone\" rel=\"nofollow\"&gt;Twitter for iPhone&lt;/a&gt;</td>\n",
       "      <td>Meet Ronduh. She's a Finnish Checkered Blitzkrieg. Ears look fake. Shoes on point. 10/10 would pet extra well https://t.co/juktj5qiaD</td>\n",
       "      <td>NaN</td>\n",
       "      <td>NaN</td>\n",
       "      <td>NaN</td>\n",
       "      <td>https://twitter.com/dog_rates/status/669393256313184256/photo/1</td>\n",
       "      <td>10</td>\n",
       "      <td>10</td>\n",
       "      <td>Ronduh</td>\n",
       "      <td>None</td>\n",
       "      <td>None</td>\n",
       "      <td>None</td>\n",
       "      <td>None</td>\n",
       "    </tr>\n",
       "    <tr>\n",
       "      <th>1291</th>\n",
       "      <td>708119489313951744</td>\n",
       "      <td>NaN</td>\n",
       "      <td>NaN</td>\n",
       "      <td>2016-03-11 02:36:57 +0000</td>\n",
       "      <td>&lt;a href=\"http://twitter.com/download/iphone\" rel=\"nofollow\"&gt;Twitter for iPhone&lt;/a&gt;</td>\n",
       "      <td>This is Cooper. He basks in the glory of rebellion. 9/10 probably a preteen https://t.co/kDamUfeIpm</td>\n",
       "      <td>NaN</td>\n",
       "      <td>NaN</td>\n",
       "      <td>NaN</td>\n",
       "      <td>https://twitter.com/dog_rates/status/708119489313951744/photo/1</td>\n",
       "      <td>9</td>\n",
       "      <td>10</td>\n",
       "      <td>Cooper</td>\n",
       "      <td>None</td>\n",
       "      <td>None</td>\n",
       "      <td>None</td>\n",
       "      <td>None</td>\n",
       "    </tr>\n",
       "    <tr>\n",
       "      <th>1542</th>\n",
       "      <td>689599056876867584</td>\n",
       "      <td>NaN</td>\n",
       "      <td>NaN</td>\n",
       "      <td>2016-01-20 00:03:21 +0000</td>\n",
       "      <td>&lt;a href=\"http://twitter.com/download/iphone\" rel=\"nofollow\"&gt;Twitter for iPhone&lt;/a&gt;</td>\n",
       "      <td>Here we see 33 dogs posing for a picture. All get 11/10 for superb cooperation https://t.co/TRAri5iHzd</td>\n",
       "      <td>NaN</td>\n",
       "      <td>NaN</td>\n",
       "      <td>NaN</td>\n",
       "      <td>https://twitter.com/dog_rates/status/689599056876867584/photo/1</td>\n",
       "      <td>11</td>\n",
       "      <td>10</td>\n",
       "      <td>None</td>\n",
       "      <td>None</td>\n",
       "      <td>None</td>\n",
       "      <td>None</td>\n",
       "      <td>None</td>\n",
       "    </tr>\n",
       "    <tr>\n",
       "      <th>1765</th>\n",
       "      <td>678410210315247616</td>\n",
       "      <td>NaN</td>\n",
       "      <td>NaN</td>\n",
       "      <td>2015-12-20 03:02:53 +0000</td>\n",
       "      <td>&lt;a href=\"http://twitter.com/download/iphone\" rel=\"nofollow\"&gt;Twitter for iPhone&lt;/a&gt;</td>\n",
       "      <td>Say hello to Jerome. He can shoot french fries out of his mouth at insane speeds. Deadly af. 10/10 https://t.co/dIy88HwrX8</td>\n",
       "      <td>NaN</td>\n",
       "      <td>NaN</td>\n",
       "      <td>NaN</td>\n",
       "      <td>https://twitter.com/dog_rates/status/678410210315247616/photo/1</td>\n",
       "      <td>10</td>\n",
       "      <td>10</td>\n",
       "      <td>Jerome</td>\n",
       "      <td>None</td>\n",
       "      <td>None</td>\n",
       "      <td>None</td>\n",
       "      <td>None</td>\n",
       "    </tr>\n",
       "    <tr>\n",
       "      <th>1674</th>\n",
       "      <td>682259524040966145</td>\n",
       "      <td>NaN</td>\n",
       "      <td>NaN</td>\n",
       "      <td>2015-12-30 17:58:40 +0000</td>\n",
       "      <td>&lt;a href=\"http://twitter.com/download/iphone\" rel=\"nofollow\"&gt;Twitter for iPhone&lt;/a&gt;</td>\n",
       "      <td>Meet Jax. He's an Iglesias Hufflepoof. Quite the jokester. Takes it too far sometimes. Can be very hurtful. 9/10 https://t.co/i5TeG0KYcW</td>\n",
       "      <td>NaN</td>\n",
       "      <td>NaN</td>\n",
       "      <td>NaN</td>\n",
       "      <td>https://twitter.com/dog_rates/status/682259524040966145/photo/1</td>\n",
       "      <td>9</td>\n",
       "      <td>10</td>\n",
       "      <td>Jax</td>\n",
       "      <td>None</td>\n",
       "      <td>None</td>\n",
       "      <td>None</td>\n",
       "      <td>None</td>\n",
       "    </tr>\n",
       "  </tbody>\n",
       "</table>\n",
       "</div>"
      ],
      "text/plain": [
       "                tweet_id  in_reply_to_status_id  in_reply_to_user_id  \\\n",
       "2162  669393256313184256                    NaN                  NaN   \n",
       "1291  708119489313951744                    NaN                  NaN   \n",
       "1542  689599056876867584                    NaN                  NaN   \n",
       "1765  678410210315247616                    NaN                  NaN   \n",
       "1674  682259524040966145                    NaN                  NaN   \n",
       "\n",
       "                      timestamp  \\\n",
       "2162  2015-11-25 05:52:43 +0000   \n",
       "1291  2016-03-11 02:36:57 +0000   \n",
       "1542  2016-01-20 00:03:21 +0000   \n",
       "1765  2015-12-20 03:02:53 +0000   \n",
       "1674  2015-12-30 17:58:40 +0000   \n",
       "\n",
       "                                                                                  source  \\\n",
       "2162  <a href=\"http://twitter.com/download/iphone\" rel=\"nofollow\">Twitter for iPhone</a>   \n",
       "1291  <a href=\"http://twitter.com/download/iphone\" rel=\"nofollow\">Twitter for iPhone</a>   \n",
       "1542  <a href=\"http://twitter.com/download/iphone\" rel=\"nofollow\">Twitter for iPhone</a>   \n",
       "1765  <a href=\"http://twitter.com/download/iphone\" rel=\"nofollow\">Twitter for iPhone</a>   \n",
       "1674  <a href=\"http://twitter.com/download/iphone\" rel=\"nofollow\">Twitter for iPhone</a>   \n",
       "\n",
       "                                                                                                                                          text  \\\n",
       "2162     Meet Ronduh. She's a Finnish Checkered Blitzkrieg. Ears look fake. Shoes on point. 10/10 would pet extra well https://t.co/juktj5qiaD   \n",
       "1291                                       This is Cooper. He basks in the glory of rebellion. 9/10 probably a preteen https://t.co/kDamUfeIpm   \n",
       "1542                                    Here we see 33 dogs posing for a picture. All get 11/10 for superb cooperation https://t.co/TRAri5iHzd   \n",
       "1765                Say hello to Jerome. He can shoot french fries out of his mouth at insane speeds. Deadly af. 10/10 https://t.co/dIy88HwrX8   \n",
       "1674  Meet Jax. He's an Iglesias Hufflepoof. Quite the jokester. Takes it too far sometimes. Can be very hurtful. 9/10 https://t.co/i5TeG0KYcW   \n",
       "\n",
       "      retweeted_status_id  retweeted_status_user_id  \\\n",
       "2162                  NaN                       NaN   \n",
       "1291                  NaN                       NaN   \n",
       "1542                  NaN                       NaN   \n",
       "1765                  NaN                       NaN   \n",
       "1674                  NaN                       NaN   \n",
       "\n",
       "     retweeted_status_timestamp  \\\n",
       "2162                        NaN   \n",
       "1291                        NaN   \n",
       "1542                        NaN   \n",
       "1765                        NaN   \n",
       "1674                        NaN   \n",
       "\n",
       "                                                        expanded_urls  \\\n",
       "2162  https://twitter.com/dog_rates/status/669393256313184256/photo/1   \n",
       "1291  https://twitter.com/dog_rates/status/708119489313951744/photo/1   \n",
       "1542  https://twitter.com/dog_rates/status/689599056876867584/photo/1   \n",
       "1765  https://twitter.com/dog_rates/status/678410210315247616/photo/1   \n",
       "1674  https://twitter.com/dog_rates/status/682259524040966145/photo/1   \n",
       "\n",
       "      rating_numerator  rating_denominator    name doggo floofer pupper puppo  \n",
       "2162                10                  10  Ronduh  None    None   None  None  \n",
       "1291                 9                  10  Cooper  None    None   None  None  \n",
       "1542                11                  10    None  None    None   None  None  \n",
       "1765                10                  10  Jerome  None    None   None  None  \n",
       "1674                 9                  10     Jax  None    None   None  None  "
      ]
     },
     "execution_count": 148,
     "metadata": {},
     "output_type": "execute_result"
    }
   ],
   "source": [
    "twitter_archive.sample(5)"
   ]
  },
  {
   "cell_type": "code",
   "execution_count": 149,
   "id": "3e053401",
   "metadata": {
    "scrolled": false
   },
   "outputs": [
    {
     "data": {
      "text/html": [
       "<div>\n",
       "<style scoped>\n",
       "    .dataframe tbody tr th:only-of-type {\n",
       "        vertical-align: middle;\n",
       "    }\n",
       "\n",
       "    .dataframe tbody tr th {\n",
       "        vertical-align: top;\n",
       "    }\n",
       "\n",
       "    .dataframe thead th {\n",
       "        text-align: right;\n",
       "    }\n",
       "</style>\n",
       "<table border=\"1\" class=\"dataframe\">\n",
       "  <thead>\n",
       "    <tr style=\"text-align: right;\">\n",
       "      <th></th>\n",
       "      <th>tweet_id</th>\n",
       "      <th>jpg_url</th>\n",
       "      <th>img_num</th>\n",
       "      <th>p1</th>\n",
       "      <th>p1_conf</th>\n",
       "      <th>p1_dog</th>\n",
       "      <th>p2</th>\n",
       "      <th>p2_conf</th>\n",
       "      <th>p2_dog</th>\n",
       "      <th>p3</th>\n",
       "      <th>p3_conf</th>\n",
       "      <th>p3_dog</th>\n",
       "    </tr>\n",
       "  </thead>\n",
       "  <tbody>\n",
       "    <tr>\n",
       "      <th>557</th>\n",
       "      <td>677687604918272002</td>\n",
       "      <td>https://pbs.twimg.com/media/CWehRdEWIAAySyO.jpg</td>\n",
       "      <td>1</td>\n",
       "      <td>Pembroke</td>\n",
       "      <td>0.573047</td>\n",
       "      <td>True</td>\n",
       "      <td>sunglasses</td>\n",
       "      <td>0.126758</td>\n",
       "      <td>False</td>\n",
       "      <td>golden_retriever</td>\n",
       "      <td>0.108047</td>\n",
       "      <td>True</td>\n",
       "    </tr>\n",
       "    <tr>\n",
       "      <th>1091</th>\n",
       "      <td>719367763014393856</td>\n",
       "      <td>https://pbs.twimg.com/media/Cfu1KSRXEAACC5X.jpg</td>\n",
       "      <td>1</td>\n",
       "      <td>swing</td>\n",
       "      <td>0.171486</td>\n",
       "      <td>False</td>\n",
       "      <td>soft-coated_wheaten_terrier</td>\n",
       "      <td>0.050971</td>\n",
       "      <td>True</td>\n",
       "      <td>Tibetan_terrier</td>\n",
       "      <td>0.047759</td>\n",
       "      <td>True</td>\n",
       "    </tr>\n",
       "    <tr>\n",
       "      <th>1439</th>\n",
       "      <td>774639387460112384</td>\n",
       "      <td>https://pbs.twimg.com/media/CsASZqRW8AA3Szw.jpg</td>\n",
       "      <td>1</td>\n",
       "      <td>Walker_hound</td>\n",
       "      <td>0.627593</td>\n",
       "      <td>True</td>\n",
       "      <td>basenji</td>\n",
       "      <td>0.128705</td>\n",
       "      <td>True</td>\n",
       "      <td>Ibizan_hound</td>\n",
       "      <td>0.126282</td>\n",
       "      <td>True</td>\n",
       "    </tr>\n",
       "    <tr>\n",
       "      <th>1361</th>\n",
       "      <td>761227390836215808</td>\n",
       "      <td>https://pbs.twimg.com/media/CpBsRleW8AEfO8G.jpg</td>\n",
       "      <td>1</td>\n",
       "      <td>cougar</td>\n",
       "      <td>0.306512</td>\n",
       "      <td>False</td>\n",
       "      <td>French_bulldog</td>\n",
       "      <td>0.280802</td>\n",
       "      <td>True</td>\n",
       "      <td>boxer</td>\n",
       "      <td>0.054523</td>\n",
       "      <td>True</td>\n",
       "    </tr>\n",
       "    <tr>\n",
       "      <th>1151</th>\n",
       "      <td>732375214819057664</td>\n",
       "      <td>https://pbs.twimg.com/media/CinrX2EWkAABDYt.jpg</td>\n",
       "      <td>1</td>\n",
       "      <td>tennis_ball</td>\n",
       "      <td>0.998673</td>\n",
       "      <td>False</td>\n",
       "      <td>basset</td>\n",
       "      <td>0.000547</td>\n",
       "      <td>True</td>\n",
       "      <td>golden_retriever</td>\n",
       "      <td>0.000360</td>\n",
       "      <td>True</td>\n",
       "    </tr>\n",
       "  </tbody>\n",
       "</table>\n",
       "</div>"
      ],
      "text/plain": [
       "                tweet_id                                          jpg_url  \\\n",
       "557   677687604918272002  https://pbs.twimg.com/media/CWehRdEWIAAySyO.jpg   \n",
       "1091  719367763014393856  https://pbs.twimg.com/media/Cfu1KSRXEAACC5X.jpg   \n",
       "1439  774639387460112384  https://pbs.twimg.com/media/CsASZqRW8AA3Szw.jpg   \n",
       "1361  761227390836215808  https://pbs.twimg.com/media/CpBsRleW8AEfO8G.jpg   \n",
       "1151  732375214819057664  https://pbs.twimg.com/media/CinrX2EWkAABDYt.jpg   \n",
       "\n",
       "      img_num            p1   p1_conf  p1_dog                           p2  \\\n",
       "557         1      Pembroke  0.573047    True                   sunglasses   \n",
       "1091        1         swing  0.171486   False  soft-coated_wheaten_terrier   \n",
       "1439        1  Walker_hound  0.627593    True                      basenji   \n",
       "1361        1        cougar  0.306512   False               French_bulldog   \n",
       "1151        1   tennis_ball  0.998673   False                       basset   \n",
       "\n",
       "       p2_conf  p2_dog                p3   p3_conf  p3_dog  \n",
       "557   0.126758   False  golden_retriever  0.108047    True  \n",
       "1091  0.050971    True   Tibetan_terrier  0.047759    True  \n",
       "1439  0.128705    True      Ibizan_hound  0.126282    True  \n",
       "1361  0.280802    True             boxer  0.054523    True  \n",
       "1151  0.000547    True  golden_retriever  0.000360    True  "
      ]
     },
     "execution_count": 149,
     "metadata": {},
     "output_type": "execute_result"
    }
   ],
   "source": [
    "image_predictions.sample(5)"
   ]
  },
  {
   "cell_type": "code",
   "execution_count": 150,
   "id": "2f1ca127",
   "metadata": {
    "scrolled": true
   },
   "outputs": [
    {
     "data": {
      "text/html": [
       "<div>\n",
       "<style scoped>\n",
       "    .dataframe tbody tr th:only-of-type {\n",
       "        vertical-align: middle;\n",
       "    }\n",
       "\n",
       "    .dataframe tbody tr th {\n",
       "        vertical-align: top;\n",
       "    }\n",
       "\n",
       "    .dataframe thead th {\n",
       "        text-align: right;\n",
       "    }\n",
       "</style>\n",
       "<table border=\"1\" class=\"dataframe\">\n",
       "  <thead>\n",
       "    <tr style=\"text-align: right;\">\n",
       "      <th></th>\n",
       "      <th>id</th>\n",
       "      <th>retweet_count</th>\n",
       "      <th>favorite_count</th>\n",
       "      <th>created_at</th>\n",
       "      <th>text</th>\n",
       "      <th>favorited</th>\n",
       "      <th>retweeted</th>\n",
       "    </tr>\n",
       "  </thead>\n",
       "  <tbody>\n",
       "    <tr>\n",
       "      <th>694</th>\n",
       "      <td>784057939640352768</td>\n",
       "      <td>10403</td>\n",
       "      <td>28202</td>\n",
       "      <td>Thu Oct 06 15:49:14 +0000 2016</td>\n",
       "      <td>This is Balto. He's very content. Legendary tongue slippage. 12/10 would pet forever https://t.co/T7Jr4Gw4sC</td>\n",
       "      <td>False</td>\n",
       "      <td>False</td>\n",
       "    </tr>\n",
       "    <tr>\n",
       "      <th>1722</th>\n",
       "      <td>678991772295516161</td>\n",
       "      <td>1027</td>\n",
       "      <td>2083</td>\n",
       "      <td>Mon Dec 21 17:33:48 +0000 2015</td>\n",
       "      <td>If your Monday isn't going so well just take a look at this. Both 12/10 https://t.co/GJT6SILPGU</td>\n",
       "      <td>False</td>\n",
       "      <td>False</td>\n",
       "    </tr>\n",
       "    <tr>\n",
       "      <th>11</th>\n",
       "      <td>889880896479866881</td>\n",
       "      <td>4188</td>\n",
       "      <td>24631</td>\n",
       "      <td>Tue Jul 25 16:11:53 +0000 2017</td>\n",
       "      <td>This is Bruno. He is a service shark. Only gets out of the water to assist you. 13/10 terrifyingly good boy https://t.co/u1XPQMl29g</td>\n",
       "      <td>False</td>\n",
       "      <td>False</td>\n",
       "    </tr>\n",
       "    <tr>\n",
       "      <th>1315</th>\n",
       "      <td>704761120771465216</td>\n",
       "      <td>2652</td>\n",
       "      <td>6155</td>\n",
       "      <td>Tue Mar 01 20:11:59 +0000 2016</td>\n",
       "      <td>This pupper killed this great white in an epic sea battle. Now wears it as a trophy. Such brave. Much fierce. 13/10 https://t.co/Lu0ECu5tO5</td>\n",
       "      <td>False</td>\n",
       "      <td>False</td>\n",
       "    </tr>\n",
       "    <tr>\n",
       "      <th>314</th>\n",
       "      <td>833124694597443584</td>\n",
       "      <td>4476</td>\n",
       "      <td>19077</td>\n",
       "      <td>Sun Feb 19 01:23:00 +0000 2017</td>\n",
       "      <td>This is Gidget. She's a spy pupper. Stealthy as h*ck. Must've slipped pup and got caught. 12/10 would forgive then… https://t.co/qZPvwdZ3YH</td>\n",
       "      <td>False</td>\n",
       "      <td>False</td>\n",
       "    </tr>\n",
       "  </tbody>\n",
       "</table>\n",
       "</div>"
      ],
      "text/plain": [
       "                      id  retweet_count  favorite_count  \\\n",
       "694   784057939640352768          10403           28202   \n",
       "1722  678991772295516161           1027            2083   \n",
       "11    889880896479866881           4188           24631   \n",
       "1315  704761120771465216           2652            6155   \n",
       "314   833124694597443584           4476           19077   \n",
       "\n",
       "                          created_at  \\\n",
       "694   Thu Oct 06 15:49:14 +0000 2016   \n",
       "1722  Mon Dec 21 17:33:48 +0000 2015   \n",
       "11    Tue Jul 25 16:11:53 +0000 2017   \n",
       "1315  Tue Mar 01 20:11:59 +0000 2016   \n",
       "314   Sun Feb 19 01:23:00 +0000 2017   \n",
       "\n",
       "                                                                                                                                             text  \\\n",
       "694                                  This is Balto. He's very content. Legendary tongue slippage. 12/10 would pet forever https://t.co/T7Jr4Gw4sC   \n",
       "1722                                              If your Monday isn't going so well just take a look at this. Both 12/10 https://t.co/GJT6SILPGU   \n",
       "11            This is Bruno. He is a service shark. Only gets out of the water to assist you. 13/10 terrifyingly good boy https://t.co/u1XPQMl29g   \n",
       "1315  This pupper killed this great white in an epic sea battle. Now wears it as a trophy. Such brave. Much fierce. 13/10 https://t.co/Lu0ECu5tO5   \n",
       "314   This is Gidget. She's a spy pupper. Stealthy as h*ck. Must've slipped pup and got caught. 12/10 would forgive then… https://t.co/qZPvwdZ3YH   \n",
       "\n",
       "      favorited  retweeted  \n",
       "694       False      False  \n",
       "1722      False      False  \n",
       "11        False      False  \n",
       "1315      False      False  \n",
       "314       False      False  "
      ]
     },
     "execution_count": 150,
     "metadata": {},
     "output_type": "execute_result"
    }
   ],
   "source": [
    "df_json.sample(5)"
   ]
  },
  {
   "cell_type": "code",
   "execution_count": 151,
   "id": "c689384c",
   "metadata": {
    "scrolled": false
   },
   "outputs": [
    {
     "data": {
      "text/plain": [
       "12      558\n",
       "11      464\n",
       "10      461\n",
       "13      351\n",
       "9       158\n",
       "8       102\n",
       "7        55\n",
       "14       54\n",
       "5        37\n",
       "6        32\n",
       "3        19\n",
       "4        17\n",
       "2         9\n",
       "1         9\n",
       "75        2\n",
       "15        2\n",
       "420       2\n",
       "0         2\n",
       "80        1\n",
       "144       1\n",
       "17        1\n",
       "26        1\n",
       "20        1\n",
       "121       1\n",
       "143       1\n",
       "44        1\n",
       "60        1\n",
       "45        1\n",
       "50        1\n",
       "99        1\n",
       "204       1\n",
       "1776      1\n",
       "165       1\n",
       "666       1\n",
       "27        1\n",
       "182       1\n",
       "24        1\n",
       "960       1\n",
       "84        1\n",
       "88        1\n",
       "Name: rating_numerator, dtype: int64"
      ]
     },
     "execution_count": 151,
     "metadata": {},
     "output_type": "execute_result"
    }
   ],
   "source": [
    "twitter_archive['rating_numerator'].value_counts()"
   ]
  },
  {
   "cell_type": "code",
   "execution_count": 152,
   "id": "8bedf9e9",
   "metadata": {
    "scrolled": true
   },
   "outputs": [
    {
     "data": {
      "text/plain": [
       "10     2333\n",
       "11        3\n",
       "50        3\n",
       "20        2\n",
       "80        2\n",
       "70        1\n",
       "7         1\n",
       "15        1\n",
       "150       1\n",
       "170       1\n",
       "0         1\n",
       "90        1\n",
       "40        1\n",
       "130       1\n",
       "110       1\n",
       "16        1\n",
       "120       1\n",
       "2         1\n",
       "Name: rating_denominator, dtype: int64"
      ]
     },
     "execution_count": 152,
     "metadata": {},
     "output_type": "execute_result"
    }
   ],
   "source": [
    "twitter_archive['rating_denominator'].value_counts()"
   ]
  },
  {
   "cell_type": "code",
   "execution_count": 153,
   "id": "f35edc61",
   "metadata": {
    "scrolled": true
   },
   "outputs": [
    {
     "data": {
      "text/plain": [
       "golden_retriever      150\n",
       "Labrador_retriever    100\n",
       "Pembroke               89\n",
       "Chihuahua              83\n",
       "pug                    57\n",
       "                     ... \n",
       "pillow                  1\n",
       "carousel                1\n",
       "bald_eagle              1\n",
       "lorikeet                1\n",
       "orange                  1\n",
       "Name: p1, Length: 378, dtype: int64"
      ]
     },
     "execution_count": 153,
     "metadata": {},
     "output_type": "execute_result"
    }
   ],
   "source": [
    "image_predictions['p1'].value_counts()"
   ]
  },
  {
   "cell_type": "markdown",
   "id": "94271e7b",
   "metadata": {},
   "source": [
    "**No Duplicate Values**"
   ]
  },
  {
   "cell_type": "code",
   "execution_count": 154,
   "id": "5c30aada",
   "metadata": {
    "scrolled": true
   },
   "outputs": [
    {
     "data": {
      "text/plain": [
       "0"
      ]
     },
     "execution_count": 154,
     "metadata": {},
     "output_type": "execute_result"
    }
   ],
   "source": [
    "df_json.duplicated().sum()"
   ]
  },
  {
   "cell_type": "code",
   "execution_count": 155,
   "id": "1a66ab01",
   "metadata": {
    "scrolled": true
   },
   "outputs": [
    {
     "data": {
      "text/plain": [
       "0"
      ]
     },
     "execution_count": 155,
     "metadata": {},
     "output_type": "execute_result"
    }
   ],
   "source": [
    "twitter_archive.duplicated().sum()"
   ]
  },
  {
   "cell_type": "code",
   "execution_count": 156,
   "id": "64bffc79",
   "metadata": {},
   "outputs": [
    {
     "data": {
      "text/plain": [
       "0"
      ]
     },
     "execution_count": 156,
     "metadata": {},
     "output_type": "execute_result"
    }
   ],
   "source": [
    "image_predictions.duplicated().sum()"
   ]
  },
  {
   "cell_type": "markdown",
   "id": "45b843e5",
   "metadata": {},
   "source": [
    "<h2>DATA ISSUES</h2>\n",
    "\n",
    "<h3>QUALITY ISSUES</h3>\n",
    "\n",
    "**twitter_archive**\n",
    "\n",
    "VALIDITY ISSUE: Some rows have decimal ratings, this does not conform to the rating schema.\n",
    "\n",
    "VALIDITY ISSUE: There are some rows with multiple dog stages\n",
    "\n",
    "ACCURACY ISSUE: The `rating_denominator` column has denominators other than 10\n",
    "\n",
    "ACCURACY ISSUE: The `rating_numerator` has values higher than 15 and lower than 7\n",
    "\n",
    "CONSISTENCY ISSUE: The `name` column has some values without a capitalized first letter. \n",
    "\n",
    "COMPLETENESS ISSUE: For columns {in_reply_to_status_id , in_reply_to_user_id, retweeted_status_user_id,  retweeted_status_timestamp,} Are not useful columns. \n",
    "\n",
    " \n",
    "**df_json**\n",
    "\n",
    "df_json - COMPLETENESS: There are 30 missing data i.e. Data was probably deleted as at the time of request.\n",
    "\n",
    "df_json - Remove columns that aren't useful to analysis\n",
    "\n",
    "df_json - Change `id` column to `tweet_id`\n",
    "\n",
    "**image_predictions**\n",
    "\n",
    "image_predictions - CONSISTENCY ISSUE: The columns {`p1`,`p2` and `p3`} has some values without a capitalized first letter. \n",
    "\n",
    "\n",
    "image_predictions - CONSISTENCY ISSUE: The column names are not descriptive enough\n",
    "\n",
    "\n",
    "\n",
    "\n",
    "**TIDY ISSUES**\n",
    "\n",
    "twitter_archive - Columns 'doggo', 'floofer', 'pupper', 'puppo' in twitter_archive should be a single column\n",
    "\n",
    "df_json, twitter_archive -  The dataframes should be joined at their end. "
   ]
  },
  {
   "cell_type": "markdown",
   "id": "d69115db",
   "metadata": {},
   "source": [
    "<h1>Cleaning Data</h1>"
   ]
  },
  {
   "cell_type": "code",
   "execution_count": 157,
   "id": "98fe64f5",
   "metadata": {},
   "outputs": [],
   "source": [
    "twitter_archive_clean = twitter_archive.copy()\n",
    "image_predictions_clean  = image_predictions.copy()\n",
    "df_json_clean = df_json.copy()"
   ]
  },
  {
   "cell_type": "markdown",
   "id": "3ea07db9",
   "metadata": {},
   "source": [
    "twitter_archive -VALIDITY ISSUE: Some rows have decimal ratings, this does not conform to the rating schema. "
   ]
  },
  {
   "cell_type": "markdown",
   "id": "bc88da12",
   "metadata": {},
   "source": [
    "**define**\n",
    "\n",
    "Use python regex to check for rows with decimal ratings then correct them. "
   ]
  },
  {
   "cell_type": "markdown",
   "id": "6a3183fd",
   "metadata": {},
   "source": [
    "**code**"
   ]
  },
  {
   "cell_type": "code",
   "execution_count": 158,
   "id": "ae3024d7",
   "metadata": {
    "scrolled": false
   },
   "outputs": [
    {
     "name": "stderr",
     "output_type": "stream",
     "text": [
      "C:\\Users\\abdul\\AppData\\Local\\Temp/ipykernel_6288/2548852241.py:1: UserWarning: This pattern has match groups. To actually get the groups, use str.extract.\n",
      "  twitter_archive_clean[twitter_archive_clean.text.str.contains(r\"(\\d+\\.\\d*\\/\\d+)\")][['tweet_id','text', 'rating_numerator','rating_denominator']]\n"
     ]
    },
    {
     "data": {
      "text/html": [
       "<div>\n",
       "<style scoped>\n",
       "    .dataframe tbody tr th:only-of-type {\n",
       "        vertical-align: middle;\n",
       "    }\n",
       "\n",
       "    .dataframe tbody tr th {\n",
       "        vertical-align: top;\n",
       "    }\n",
       "\n",
       "    .dataframe thead th {\n",
       "        text-align: right;\n",
       "    }\n",
       "</style>\n",
       "<table border=\"1\" class=\"dataframe\">\n",
       "  <thead>\n",
       "    <tr style=\"text-align: right;\">\n",
       "      <th></th>\n",
       "      <th>tweet_id</th>\n",
       "      <th>text</th>\n",
       "      <th>rating_numerator</th>\n",
       "      <th>rating_denominator</th>\n",
       "    </tr>\n",
       "  </thead>\n",
       "  <tbody>\n",
       "    <tr>\n",
       "      <th>45</th>\n",
       "      <td>883482846933004288</td>\n",
       "      <td>This is Bella. She hopes her smile made you smile. If not, she is also offering you her favorite monkey. 13.5/10 https://t.co/qjrljjt948</td>\n",
       "      <td>5</td>\n",
       "      <td>10</td>\n",
       "    </tr>\n",
       "    <tr>\n",
       "      <th>340</th>\n",
       "      <td>832215909146226688</td>\n",
       "      <td>RT @dog_rates: This is Logan, the Chow who lived. He solemnly swears he's up to lots of good. H*ckin magical af 9.75/10 https://t.co/yBO5wu…</td>\n",
       "      <td>75</td>\n",
       "      <td>10</td>\n",
       "    </tr>\n",
       "    <tr>\n",
       "      <th>695</th>\n",
       "      <td>786709082849828864</td>\n",
       "      <td>This is Logan, the Chow who lived. He solemnly swears he's up to lots of good. H*ckin magical af 9.75/10 https://t.co/yBO5wuqaPS</td>\n",
       "      <td>75</td>\n",
       "      <td>10</td>\n",
       "    </tr>\n",
       "    <tr>\n",
       "      <th>763</th>\n",
       "      <td>778027034220126208</td>\n",
       "      <td>This is Sophie. She's a Jubilant Bush Pupper. Super h*ckin rare. Appears at random just to smile at the locals. 11.27/10 would smile back https://t.co/QFaUiIHxHq</td>\n",
       "      <td>27</td>\n",
       "      <td>10</td>\n",
       "    </tr>\n",
       "    <tr>\n",
       "      <th>1689</th>\n",
       "      <td>681340665377193984</td>\n",
       "      <td>I've been told there's a slight possibility he's checking his mirror. We'll bump to 9.5/10. Still a menace</td>\n",
       "      <td>5</td>\n",
       "      <td>10</td>\n",
       "    </tr>\n",
       "    <tr>\n",
       "      <th>1712</th>\n",
       "      <td>680494726643068929</td>\n",
       "      <td>Here we have uncovered an entire battalion of holiday puppers. Average of 11.26/10 https://t.co/eNm2S6p9BD</td>\n",
       "      <td>26</td>\n",
       "      <td>10</td>\n",
       "    </tr>\n",
       "  </tbody>\n",
       "</table>\n",
       "</div>"
      ],
      "text/plain": [
       "                tweet_id  \\\n",
       "45    883482846933004288   \n",
       "340   832215909146226688   \n",
       "695   786709082849828864   \n",
       "763   778027034220126208   \n",
       "1689  681340665377193984   \n",
       "1712  680494726643068929   \n",
       "\n",
       "                                                                                                                                                                   text  \\\n",
       "45                             This is Bella. She hopes her smile made you smile. If not, she is also offering you her favorite monkey. 13.5/10 https://t.co/qjrljjt948   \n",
       "340                        RT @dog_rates: This is Logan, the Chow who lived. He solemnly swears he's up to lots of good. H*ckin magical af 9.75/10 https://t.co/yBO5wu…   \n",
       "695                                    This is Logan, the Chow who lived. He solemnly swears he's up to lots of good. H*ckin magical af 9.75/10 https://t.co/yBO5wuqaPS   \n",
       "763   This is Sophie. She's a Jubilant Bush Pupper. Super h*ckin rare. Appears at random just to smile at the locals. 11.27/10 would smile back https://t.co/QFaUiIHxHq   \n",
       "1689                                                         I've been told there's a slight possibility he's checking his mirror. We'll bump to 9.5/10. Still a menace   \n",
       "1712                                                         Here we have uncovered an entire battalion of holiday puppers. Average of 11.26/10 https://t.co/eNm2S6p9BD   \n",
       "\n",
       "      rating_numerator  rating_denominator  \n",
       "45                   5                  10  \n",
       "340                 75                  10  \n",
       "695                 75                  10  \n",
       "763                 27                  10  \n",
       "1689                 5                  10  \n",
       "1712                26                  10  "
      ]
     },
     "execution_count": 158,
     "metadata": {},
     "output_type": "execute_result"
    }
   ],
   "source": [
    "twitter_archive_clean[twitter_archive_clean.text.str.contains(r\"(\\d+\\.\\d*\\/\\d+)\")][['tweet_id','text', 'rating_numerator','rating_denominator']]"
   ]
  },
  {
   "cell_type": "markdown",
   "id": "c58aa295",
   "metadata": {},
   "source": [
    "I'll round down all ratings to ensure consistency.\n",
    "\n",
    "for tweet_id 883482846933004288, 13.5/10 will be 13/10\n",
    "\n",
    "for tweet_id 832215909146226688, 9.75/10 will be 9/10\n",
    "\n",
    "for tweet_id 786709082849828864, 9.75/10 will be 9/10\n",
    "\n",
    "for tweet_id 778027034220126208, 11.27/10 will be 11/10\n",
    "\n",
    "for tweet_id 681340665377193984, 9.5/10 will be 9/10\n",
    "\n",
    "for tweet_id 680494726643068929, 11.26/10 will be 11/10"
   ]
  },
  {
   "cell_type": "code",
   "execution_count": 159,
   "id": "ad47dab7",
   "metadata": {},
   "outputs": [],
   "source": [
    "#The issue is small enough to fix manually\n",
    "tweets = [883482846933004288,832215909146226688,786709082849828864,778027034220126208,681340665377193984,680494726643068929]\n",
    "int_list = [13,9,9,11,9,11]\n",
    "\n",
    "n= 0\n",
    "for tweet in tweets:\n",
    "    \n",
    "    twitter_archive_clean.loc[twitter_archive_clean['tweet_id'] ==  tweet,['rating_numerator']] = int_list[n]\n",
    "    n+=1"
   ]
  },
  {
   "cell_type": "markdown",
   "id": "4a6fd182",
   "metadata": {},
   "source": [
    "**test**"
   ]
  },
  {
   "cell_type": "code",
   "execution_count": 160,
   "id": "3f45927e",
   "metadata": {},
   "outputs": [
    {
     "name": "stderr",
     "output_type": "stream",
     "text": [
      "C:\\Users\\abdul\\AppData\\Local\\Temp/ipykernel_6288/1367491512.py:2: UserWarning: This pattern has match groups. To actually get the groups, use str.extract.\n",
      "  twitter_archive_clean[twitter_archive_clean.text.str.contains(r\"(\\d+\\.\\d*\\/\\d+)\")][['tweet_id','text', 'rating_numerator','rating_denominator']]\n"
     ]
    },
    {
     "data": {
      "text/html": [
       "<div>\n",
       "<style scoped>\n",
       "    .dataframe tbody tr th:only-of-type {\n",
       "        vertical-align: middle;\n",
       "    }\n",
       "\n",
       "    .dataframe tbody tr th {\n",
       "        vertical-align: top;\n",
       "    }\n",
       "\n",
       "    .dataframe thead th {\n",
       "        text-align: right;\n",
       "    }\n",
       "</style>\n",
       "<table border=\"1\" class=\"dataframe\">\n",
       "  <thead>\n",
       "    <tr style=\"text-align: right;\">\n",
       "      <th></th>\n",
       "      <th>tweet_id</th>\n",
       "      <th>text</th>\n",
       "      <th>rating_numerator</th>\n",
       "      <th>rating_denominator</th>\n",
       "    </tr>\n",
       "  </thead>\n",
       "  <tbody>\n",
       "    <tr>\n",
       "      <th>45</th>\n",
       "      <td>883482846933004288</td>\n",
       "      <td>This is Bella. She hopes her smile made you smile. If not, she is also offering you her favorite monkey. 13.5/10 https://t.co/qjrljjt948</td>\n",
       "      <td>13</td>\n",
       "      <td>10</td>\n",
       "    </tr>\n",
       "    <tr>\n",
       "      <th>340</th>\n",
       "      <td>832215909146226688</td>\n",
       "      <td>RT @dog_rates: This is Logan, the Chow who lived. He solemnly swears he's up to lots of good. H*ckin magical af 9.75/10 https://t.co/yBO5wu…</td>\n",
       "      <td>9</td>\n",
       "      <td>10</td>\n",
       "    </tr>\n",
       "    <tr>\n",
       "      <th>695</th>\n",
       "      <td>786709082849828864</td>\n",
       "      <td>This is Logan, the Chow who lived. He solemnly swears he's up to lots of good. H*ckin magical af 9.75/10 https://t.co/yBO5wuqaPS</td>\n",
       "      <td>9</td>\n",
       "      <td>10</td>\n",
       "    </tr>\n",
       "    <tr>\n",
       "      <th>763</th>\n",
       "      <td>778027034220126208</td>\n",
       "      <td>This is Sophie. She's a Jubilant Bush Pupper. Super h*ckin rare. Appears at random just to smile at the locals. 11.27/10 would smile back https://t.co/QFaUiIHxHq</td>\n",
       "      <td>11</td>\n",
       "      <td>10</td>\n",
       "    </tr>\n",
       "    <tr>\n",
       "      <th>1689</th>\n",
       "      <td>681340665377193984</td>\n",
       "      <td>I've been told there's a slight possibility he's checking his mirror. We'll bump to 9.5/10. Still a menace</td>\n",
       "      <td>9</td>\n",
       "      <td>10</td>\n",
       "    </tr>\n",
       "    <tr>\n",
       "      <th>1712</th>\n",
       "      <td>680494726643068929</td>\n",
       "      <td>Here we have uncovered an entire battalion of holiday puppers. Average of 11.26/10 https://t.co/eNm2S6p9BD</td>\n",
       "      <td>11</td>\n",
       "      <td>10</td>\n",
       "    </tr>\n",
       "  </tbody>\n",
       "</table>\n",
       "</div>"
      ],
      "text/plain": [
       "                tweet_id  \\\n",
       "45    883482846933004288   \n",
       "340   832215909146226688   \n",
       "695   786709082849828864   \n",
       "763   778027034220126208   \n",
       "1689  681340665377193984   \n",
       "1712  680494726643068929   \n",
       "\n",
       "                                                                                                                                                                   text  \\\n",
       "45                             This is Bella. She hopes her smile made you smile. If not, she is also offering you her favorite monkey. 13.5/10 https://t.co/qjrljjt948   \n",
       "340                        RT @dog_rates: This is Logan, the Chow who lived. He solemnly swears he's up to lots of good. H*ckin magical af 9.75/10 https://t.co/yBO5wu…   \n",
       "695                                    This is Logan, the Chow who lived. He solemnly swears he's up to lots of good. H*ckin magical af 9.75/10 https://t.co/yBO5wuqaPS   \n",
       "763   This is Sophie. She's a Jubilant Bush Pupper. Super h*ckin rare. Appears at random just to smile at the locals. 11.27/10 would smile back https://t.co/QFaUiIHxHq   \n",
       "1689                                                         I've been told there's a slight possibility he's checking his mirror. We'll bump to 9.5/10. Still a menace   \n",
       "1712                                                         Here we have uncovered an entire battalion of holiday puppers. Average of 11.26/10 https://t.co/eNm2S6p9BD   \n",
       "\n",
       "      rating_numerator  rating_denominator  \n",
       "45                  13                  10  \n",
       "340                  9                  10  \n",
       "695                  9                  10  \n",
       "763                 11                  10  \n",
       "1689                 9                  10  \n",
       "1712                11                  10  "
      ]
     },
     "execution_count": 160,
     "metadata": {},
     "output_type": "execute_result"
    }
   ],
   "source": [
    "#check if the fix was successful\n",
    "twitter_archive_clean[twitter_archive_clean.text.str.contains(r\"(\\d+\\.\\d*\\/\\d+)\")][['tweet_id','text', 'rating_numerator','rating_denominator']]"
   ]
  },
  {
   "cell_type": "markdown",
   "id": "bd807736",
   "metadata": {},
   "source": [
    "twitter_archive - ACCURACY ISSUE: The rating_denominator column has denominators other than 10\n"
   ]
  },
  {
   "cell_type": "markdown",
   "id": "34b08f80",
   "metadata": {},
   "source": [
    "**Define**\n",
    "\n",
    "Check text for rating info for correct rating, then delete those rows without a rating\n",
    "\n"
   ]
  },
  {
   "cell_type": "markdown",
   "id": "d201c050",
   "metadata": {},
   "source": [
    "**Code**"
   ]
  },
  {
   "cell_type": "code",
   "execution_count": 161,
   "id": "6e25b239",
   "metadata": {
    "scrolled": true
   },
   "outputs": [
    {
     "data": {
      "text/html": [
       "<div>\n",
       "<style scoped>\n",
       "    .dataframe tbody tr th:only-of-type {\n",
       "        vertical-align: middle;\n",
       "    }\n",
       "\n",
       "    .dataframe tbody tr th {\n",
       "        vertical-align: top;\n",
       "    }\n",
       "\n",
       "    .dataframe thead th {\n",
       "        text-align: right;\n",
       "    }\n",
       "</style>\n",
       "<table border=\"1\" class=\"dataframe\">\n",
       "  <thead>\n",
       "    <tr style=\"text-align: right;\">\n",
       "      <th></th>\n",
       "      <th>tweet_id</th>\n",
       "      <th>text</th>\n",
       "      <th>rating_denominator</th>\n",
       "      <th>rating_numerator</th>\n",
       "    </tr>\n",
       "  </thead>\n",
       "  <tbody>\n",
       "    <tr>\n",
       "      <th>313</th>\n",
       "      <td>835246439529840640</td>\n",
       "      <td>@jonnysun @Lin_Manuel ok jomny I know you're excited but 960/00 isn't a valid rating, 13/10 is tho</td>\n",
       "      <td>0</td>\n",
       "      <td>960</td>\n",
       "    </tr>\n",
       "    <tr>\n",
       "      <th>342</th>\n",
       "      <td>832088576586297345</td>\n",
       "      <td>@docmisterio account started on 11/15/15</td>\n",
       "      <td>15</td>\n",
       "      <td>11</td>\n",
       "    </tr>\n",
       "    <tr>\n",
       "      <th>433</th>\n",
       "      <td>820690176645140481</td>\n",
       "      <td>The floofs have been released I repeat the floofs have been released. 84/70 https://t.co/NIYC820tmd</td>\n",
       "      <td>70</td>\n",
       "      <td>84</td>\n",
       "    </tr>\n",
       "    <tr>\n",
       "      <th>516</th>\n",
       "      <td>810984652412424192</td>\n",
       "      <td>Meet Sam. She smiles 24/7 &amp;amp; secretly aspires to be a reindeer. \\nKeep Sam smiling by clicking and sharing this link:\\nhttps://t.co/98tB8y7y7t https://t.co/LouL5vdvxx</td>\n",
       "      <td>7</td>\n",
       "      <td>24</td>\n",
       "    </tr>\n",
       "    <tr>\n",
       "      <th>784</th>\n",
       "      <td>775096608509886464</td>\n",
       "      <td>RT @dog_rates: After so many requests, this is Bretagne. She was the last surviving 9/11 search dog, and our second ever 14/10. RIP https:/…</td>\n",
       "      <td>11</td>\n",
       "      <td>9</td>\n",
       "    </tr>\n",
       "    <tr>\n",
       "      <th>902</th>\n",
       "      <td>758467244762497024</td>\n",
       "      <td>Why does this never happen at my front door... 165/150 https://t.co/HmwrdfEfUE</td>\n",
       "      <td>150</td>\n",
       "      <td>165</td>\n",
       "    </tr>\n",
       "    <tr>\n",
       "      <th>1068</th>\n",
       "      <td>740373189193256964</td>\n",
       "      <td>After so many requests, this is Bretagne. She was the last surviving 9/11 search dog, and our second ever 14/10. RIP https://t.co/XAVDNDaVgQ</td>\n",
       "      <td>11</td>\n",
       "      <td>9</td>\n",
       "    </tr>\n",
       "    <tr>\n",
       "      <th>1120</th>\n",
       "      <td>731156023742988288</td>\n",
       "      <td>Say hello to this unbelievably well behaved squad of doggos. 204/170 would try to pet all at once https://t.co/yGQI3He3xv</td>\n",
       "      <td>170</td>\n",
       "      <td>204</td>\n",
       "    </tr>\n",
       "    <tr>\n",
       "      <th>1165</th>\n",
       "      <td>722974582966214656</td>\n",
       "      <td>Happy 4/20 from the squad! 13/10 for all https://t.co/eV1diwds8a</td>\n",
       "      <td>20</td>\n",
       "      <td>4</td>\n",
       "    </tr>\n",
       "    <tr>\n",
       "      <th>1202</th>\n",
       "      <td>716439118184652801</td>\n",
       "      <td>This is Bluebert. He just saw that both #FinalFur match ups are split 50/50. Amazed af. 11/10 https://t.co/Kky1DPG4iq</td>\n",
       "      <td>50</td>\n",
       "      <td>50</td>\n",
       "    </tr>\n",
       "    <tr>\n",
       "      <th>1228</th>\n",
       "      <td>713900603437621249</td>\n",
       "      <td>Happy Saturday here's 9 puppers on a bench. 99/90 good work everybody https://t.co/mpvaVxKmc1</td>\n",
       "      <td>90</td>\n",
       "      <td>99</td>\n",
       "    </tr>\n",
       "    <tr>\n",
       "      <th>1254</th>\n",
       "      <td>710658690886586372</td>\n",
       "      <td>Here's a brigade of puppers. All look very prepared for whatever happens next. 80/80 https://t.co/0eb7R1Om12</td>\n",
       "      <td>80</td>\n",
       "      <td>80</td>\n",
       "    </tr>\n",
       "    <tr>\n",
       "      <th>1274</th>\n",
       "      <td>709198395643068416</td>\n",
       "      <td>From left to right:\\nCletus, Jerome, Alejandro, Burp, &amp;amp; Titson\\nNone know where camera is. 45/50 would hug all at once https://t.co/sedre1ivTK</td>\n",
       "      <td>50</td>\n",
       "      <td>45</td>\n",
       "    </tr>\n",
       "    <tr>\n",
       "      <th>1351</th>\n",
       "      <td>704054845121142784</td>\n",
       "      <td>Here is a whole flock of puppers.  60/50 I'll take the lot https://t.co/9dpcw6MdWa</td>\n",
       "      <td>50</td>\n",
       "      <td>60</td>\n",
       "    </tr>\n",
       "    <tr>\n",
       "      <th>1433</th>\n",
       "      <td>697463031882764288</td>\n",
       "      <td>Happy Wednesday here's a bucket of pups. 44/40 would pet all at once https://t.co/HppvrYuamZ</td>\n",
       "      <td>40</td>\n",
       "      <td>44</td>\n",
       "    </tr>\n",
       "    <tr>\n",
       "      <th>1598</th>\n",
       "      <td>686035780142297088</td>\n",
       "      <td>Yes I do realize a rating of 4/20 would've been fitting. However, it would be unjust to give these cooperative pups that low of a rating</td>\n",
       "      <td>20</td>\n",
       "      <td>4</td>\n",
       "    </tr>\n",
       "    <tr>\n",
       "      <th>1634</th>\n",
       "      <td>684225744407494656</td>\n",
       "      <td>Two sneaky puppers were not initially seen, moving the rating to 143/130. Please forgive us. Thank you https://t.co/kRK51Y5ac3</td>\n",
       "      <td>130</td>\n",
       "      <td>143</td>\n",
       "    </tr>\n",
       "    <tr>\n",
       "      <th>1635</th>\n",
       "      <td>684222868335505415</td>\n",
       "      <td>Someone help the girl is being mugged. Several are distracting her while two steal her shoes. Clever puppers 121/110 https://t.co/1zfnTJLt55</td>\n",
       "      <td>110</td>\n",
       "      <td>121</td>\n",
       "    </tr>\n",
       "    <tr>\n",
       "      <th>1662</th>\n",
       "      <td>682962037429899265</td>\n",
       "      <td>This is Darrel. He just robbed a 7/11 and is in a high speed police chase. Was just spotted by the helicopter 10/10 https://t.co/7EsP8LmSp5</td>\n",
       "      <td>11</td>\n",
       "      <td>7</td>\n",
       "    </tr>\n",
       "    <tr>\n",
       "      <th>1663</th>\n",
       "      <td>682808988178739200</td>\n",
       "      <td>I'm aware that I could've said 20/16, but here at WeRateDogs we are very professional. An inconsistent rating scale is simply irresponsible</td>\n",
       "      <td>16</td>\n",
       "      <td>20</td>\n",
       "    </tr>\n",
       "    <tr>\n",
       "      <th>1779</th>\n",
       "      <td>677716515794329600</td>\n",
       "      <td>IT'S PUPPERGEDDON. Total of 144/120 ...I think https://t.co/ZanVtAtvIq</td>\n",
       "      <td>120</td>\n",
       "      <td>144</td>\n",
       "    </tr>\n",
       "    <tr>\n",
       "      <th>1843</th>\n",
       "      <td>675853064436391936</td>\n",
       "      <td>Here we have an entire platoon of puppers. Total score: 88/80 would pet all at once https://t.co/y93p6FLvVw</td>\n",
       "      <td>80</td>\n",
       "      <td>88</td>\n",
       "    </tr>\n",
       "    <tr>\n",
       "      <th>2335</th>\n",
       "      <td>666287406224695296</td>\n",
       "      <td>This is an Albanian 3 1/2 legged  Episcopalian. Loves well-polished hardwood flooring. Penis on the collar. 9/10 https://t.co/d9NcXFKwLv</td>\n",
       "      <td>2</td>\n",
       "      <td>1</td>\n",
       "    </tr>\n",
       "  </tbody>\n",
       "</table>\n",
       "</div>"
      ],
      "text/plain": [
       "                tweet_id  \\\n",
       "313   835246439529840640   \n",
       "342   832088576586297345   \n",
       "433   820690176645140481   \n",
       "516   810984652412424192   \n",
       "784   775096608509886464   \n",
       "902   758467244762497024   \n",
       "1068  740373189193256964   \n",
       "1120  731156023742988288   \n",
       "1165  722974582966214656   \n",
       "1202  716439118184652801   \n",
       "1228  713900603437621249   \n",
       "1254  710658690886586372   \n",
       "1274  709198395643068416   \n",
       "1351  704054845121142784   \n",
       "1433  697463031882764288   \n",
       "1598  686035780142297088   \n",
       "1634  684225744407494656   \n",
       "1635  684222868335505415   \n",
       "1662  682962037429899265   \n",
       "1663  682808988178739200   \n",
       "1779  677716515794329600   \n",
       "1843  675853064436391936   \n",
       "2335  666287406224695296   \n",
       "\n",
       "                                                                                                                                                                           text  \\\n",
       "313                                                                          @jonnysun @Lin_Manuel ok jomny I know you're excited but 960/00 isn't a valid rating, 13/10 is tho   \n",
       "342                                                                                                                                    @docmisterio account started on 11/15/15   \n",
       "433                                                                         The floofs have been released I repeat the floofs have been released. 84/70 https://t.co/NIYC820tmd   \n",
       "516   Meet Sam. She smiles 24/7 &amp; secretly aspires to be a reindeer. \\nKeep Sam smiling by clicking and sharing this link:\\nhttps://t.co/98tB8y7y7t https://t.co/LouL5vdvxx   \n",
       "784                                RT @dog_rates: After so many requests, this is Bretagne. She was the last surviving 9/11 search dog, and our second ever 14/10. RIP https:/…   \n",
       "902                                                                                              Why does this never happen at my front door... 165/150 https://t.co/HmwrdfEfUE   \n",
       "1068                               After so many requests, this is Bretagne. She was the last surviving 9/11 search dog, and our second ever 14/10. RIP https://t.co/XAVDNDaVgQ   \n",
       "1120                                                  Say hello to this unbelievably well behaved squad of doggos. 204/170 would try to pet all at once https://t.co/yGQI3He3xv   \n",
       "1165                                                                                                           Happy 4/20 from the squad! 13/10 for all https://t.co/eV1diwds8a   \n",
       "1202                                                      This is Bluebert. He just saw that both #FinalFur match ups are split 50/50. Amazed af. 11/10 https://t.co/Kky1DPG4iq   \n",
       "1228                                                                              Happy Saturday here's 9 puppers on a bench. 99/90 good work everybody https://t.co/mpvaVxKmc1   \n",
       "1254                                                               Here's a brigade of puppers. All look very prepared for whatever happens next. 80/80 https://t.co/0eb7R1Om12   \n",
       "1274                         From left to right:\\nCletus, Jerome, Alejandro, Burp, &amp; Titson\\nNone know where camera is. 45/50 would hug all at once https://t.co/sedre1ivTK   \n",
       "1351                                                                                         Here is a whole flock of puppers.  60/50 I'll take the lot https://t.co/9dpcw6MdWa   \n",
       "1433                                                                               Happy Wednesday here's a bucket of pups. 44/40 would pet all at once https://t.co/HppvrYuamZ   \n",
       "1598                                   Yes I do realize a rating of 4/20 would've been fitting. However, it would be unjust to give these cooperative pups that low of a rating   \n",
       "1634                                             Two sneaky puppers were not initially seen, moving the rating to 143/130. Please forgive us. Thank you https://t.co/kRK51Y5ac3   \n",
       "1635                               Someone help the girl is being mugged. Several are distracting her while two steal her shoes. Clever puppers 121/110 https://t.co/1zfnTJLt55   \n",
       "1662                                This is Darrel. He just robbed a 7/11 and is in a high speed police chase. Was just spotted by the helicopter 10/10 https://t.co/7EsP8LmSp5   \n",
       "1663                                I'm aware that I could've said 20/16, but here at WeRateDogs we are very professional. An inconsistent rating scale is simply irresponsible   \n",
       "1779                                                                                                     IT'S PUPPERGEDDON. Total of 144/120 ...I think https://t.co/ZanVtAtvIq   \n",
       "1843                                                                Here we have an entire platoon of puppers. Total score: 88/80 would pet all at once https://t.co/y93p6FLvVw   \n",
       "2335                                   This is an Albanian 3 1/2 legged  Episcopalian. Loves well-polished hardwood flooring. Penis on the collar. 9/10 https://t.co/d9NcXFKwLv   \n",
       "\n",
       "      rating_denominator  rating_numerator  \n",
       "313                    0               960  \n",
       "342                   15                11  \n",
       "433                   70                84  \n",
       "516                    7                24  \n",
       "784                   11                 9  \n",
       "902                  150               165  \n",
       "1068                  11                 9  \n",
       "1120                 170               204  \n",
       "1165                  20                 4  \n",
       "1202                  50                50  \n",
       "1228                  90                99  \n",
       "1254                  80                80  \n",
       "1274                  50                45  \n",
       "1351                  50                60  \n",
       "1433                  40                44  \n",
       "1598                  20                 4  \n",
       "1634                 130               143  \n",
       "1635                 110               121  \n",
       "1662                  11                 7  \n",
       "1663                  16                20  \n",
       "1779                 120               144  \n",
       "1843                  80                88  \n",
       "2335                   2                 1  "
      ]
     },
     "execution_count": 161,
     "metadata": {},
     "output_type": "execute_result"
    }
   ],
   "source": [
    "df_temp = twitter_archive_clean[['tweet_id','text','rating_denominator','rating_numerator']]\n",
    "pd.set_option('display.max_colwidth', None)\n",
    "df_temp.loc[df_temp['rating_denominator']!=10, :]"
   ]
  },
  {
   "cell_type": "markdown",
   "id": "a387e304",
   "metadata": {},
   "source": [
    "This problem occurred due to the reasons below:\n",
    "\n",
    "1. The data was captured wrongly from the `text` column\n",
    "2. Some tweets used different scales to rate the dogs\n",
    "3. Some tweets aren't ratings at all"
   ]
  },
  {
   "cell_type": "code",
   "execution_count": 162,
   "id": "b38f8817",
   "metadata": {
    "scrolled": true
   },
   "outputs": [],
   "source": [
    "#1. Change data recorded wrong \n",
    "tweet_id_list = [835246439529840640, 775096608509886464,740373189193256964, 722974582966214656, 716439118184652801, 682962037429899265, 666287406224695296]\n",
    "numerator_list = [13, 14, 14, 13, 11,10, 9]\n",
    "n= 0\n",
    "for tweet in tweet_id_list:\n",
    "    \n",
    "    twitter_archive_clean.loc[twitter_archive_clean['tweet_id'] ==  tweet,['rating_denominator']] = 10\n",
    "    twitter_archive_clean.loc[twitter_archive_clean['tweet_id'] ==  tweet,['rating_numerator']] = numerator_list[n]\n",
    "    n+=1"
   ]
  },
  {
   "cell_type": "markdown",
   "id": "bc2d38ba",
   "metadata": {},
   "source": [
    "2. We can infer from the `text` column context that n/10 is a factor of scores like 84/70,165/150, 204/170. where n is a number from 9 to 15. Therefore we'd extract the true scores from these scaled up scores.\n",
    "\n",
    "for tweet_id 820690176645140481: 84/70 - Divided by 7 -\n",
    "12/10\n",
    "\n",
    "758467244762497024: 165/150 - Divided by 15 -\n",
    "11/10\n",
    "\n",
    "731156023742988288: 204/170 - Divided by 17 - 12/10\n",
    "\n",
    "713900603437621249: 99/90 - divided by 9 - 11/10\n",
    "\n",
    "710658690886586372: 80/80 - divided by 8 - 10/10\n",
    "\n",
    "709198395643068416: 45/50 - divided by 5 - 9/10\n",
    "\n",
    "704054845121142784: 60/50 - divided by 5 - 12/10\n",
    "\n",
    "697463031882764288: 44/40 - divided by 4 - 11/10\n",
    "\n",
    "684225744407494656: 143/130 - divided by 13 - 11/10\n",
    "\n",
    "684222868335505415: 121/110 - divided by 11 - 11/10\n",
    "\n",
    "677716515794329600: 144/120 - divided by 12 - 12/10\n",
    "\n",
    "675853064436391936: 88/80 - divided by 8 - 11/10\n",
    "\n",
    "numerator_list = [12, 11,12,11,10,9,12,11,11,11,12,11]\n",
    "\n",
    "tweet_id_list = [820690176645140481,758467244762497024, 731156023742988288, 713900603437621249, 710658690886586372, 709198395643068416, 704054845121142784, 697463031882764288,  684225744407494656, 684222868335505415, 677716515794329600, 675853064436391936 ]"
   ]
  },
  {
   "cell_type": "code",
   "execution_count": 163,
   "id": "d57d4624",
   "metadata": {},
   "outputs": [],
   "source": [
    "tweet_id_list = [820690176645140481,758467244762497024, 731156023742988288, \n",
    "                 713900603437621249, 710658690886586372, 709198395643068416,\n",
    "                 704054845121142784, 697463031882764288,  684225744407494656, \n",
    "                 684222868335505415, 677716515794329600, 675853064436391936 ]\n",
    "numerator_list = [12, 11,12,11,10,9,12,11,11,11,12,11]\n",
    "n =0\n",
    "for tweet in tweet_id_list:\n",
    "    twitter_archive_clean.loc[twitter_archive_clean['tweet_id'] ==  tweet,['rating_denominator']] = 10\n",
    "    twitter_archive_clean.loc[twitter_archive_clean['tweet_id'] ==  tweet,['rating_numerator']] = numerator_list[n]\n",
    "    n+=1"
   ]
  },
  {
   "cell_type": "code",
   "execution_count": 164,
   "id": "596ac540",
   "metadata": {},
   "outputs": [],
   "source": [
    "#3. We'll delete the remaining records as they aren't ratings\n",
    "twitter_archive_clean.drop([342,516,1598,1663], inplace = True)"
   ]
  },
  {
   "cell_type": "markdown",
   "id": "7a1a05e0",
   "metadata": {},
   "source": [
    "**test**"
   ]
  },
  {
   "cell_type": "code",
   "execution_count": 165,
   "id": "4a0cb6bb",
   "metadata": {
    "scrolled": true
   },
   "outputs": [
    {
     "data": {
      "text/html": [
       "<div>\n",
       "<style scoped>\n",
       "    .dataframe tbody tr th:only-of-type {\n",
       "        vertical-align: middle;\n",
       "    }\n",
       "\n",
       "    .dataframe tbody tr th {\n",
       "        vertical-align: top;\n",
       "    }\n",
       "\n",
       "    .dataframe thead th {\n",
       "        text-align: right;\n",
       "    }\n",
       "</style>\n",
       "<table border=\"1\" class=\"dataframe\">\n",
       "  <thead>\n",
       "    <tr style=\"text-align: right;\">\n",
       "      <th></th>\n",
       "      <th>tweet_id</th>\n",
       "      <th>in_reply_to_status_id</th>\n",
       "      <th>in_reply_to_user_id</th>\n",
       "      <th>timestamp</th>\n",
       "      <th>source</th>\n",
       "      <th>text</th>\n",
       "      <th>retweeted_status_id</th>\n",
       "      <th>retweeted_status_user_id</th>\n",
       "      <th>retweeted_status_timestamp</th>\n",
       "      <th>expanded_urls</th>\n",
       "      <th>rating_numerator</th>\n",
       "      <th>rating_denominator</th>\n",
       "      <th>name</th>\n",
       "      <th>doggo</th>\n",
       "      <th>floofer</th>\n",
       "      <th>pupper</th>\n",
       "      <th>puppo</th>\n",
       "    </tr>\n",
       "  </thead>\n",
       "  <tbody>\n",
       "  </tbody>\n",
       "</table>\n",
       "</div>"
      ],
      "text/plain": [
       "Empty DataFrame\n",
       "Columns: [tweet_id, in_reply_to_status_id, in_reply_to_user_id, timestamp, source, text, retweeted_status_id, retweeted_status_user_id, retweeted_status_timestamp, expanded_urls, rating_numerator, rating_denominator, name, doggo, floofer, pupper, puppo]\n",
       "Index: []"
      ]
     },
     "execution_count": 165,
     "metadata": {},
     "output_type": "execute_result"
    }
   ],
   "source": [
    "twitter_archive_clean.loc[twitter_archive_clean['rating_denominator']!=10, :]"
   ]
  },
  {
   "cell_type": "code",
   "execution_count": 166,
   "id": "d13dc7f6",
   "metadata": {
    "scrolled": true
   },
   "outputs": [
    {
     "data": {
      "text/plain": [
       "(2352, 17)"
      ]
     },
     "execution_count": 166,
     "metadata": {},
     "output_type": "execute_result"
    }
   ],
   "source": [
    "twitter_archive_clean.shape"
   ]
  },
  {
   "cell_type": "markdown",
   "id": "511ce358",
   "metadata": {},
   "source": [
    "twitter_archive - CONSISTENCY ISSUE: The `name` column has some values without a capitalized first letter"
   ]
  },
  {
   "cell_type": "markdown",
   "id": "fcdb59d1",
   "metadata": {},
   "source": [
    "**define**\n",
    "\n",
    "use capitalize() function to make them consistent"
   ]
  },
  {
   "cell_type": "markdown",
   "id": "e5935fdf",
   "metadata": {},
   "source": [
    "**code**"
   ]
  },
  {
   "cell_type": "code",
   "execution_count": 167,
   "id": "c7d0a656",
   "metadata": {},
   "outputs": [],
   "source": [
    "twitter_archive_clean['name'] = twitter_archive_clean['name'].str.capitalize()"
   ]
  },
  {
   "cell_type": "markdown",
   "id": "c8dd2c4a",
   "metadata": {},
   "source": [
    "**test**"
   ]
  },
  {
   "cell_type": "code",
   "execution_count": 168,
   "id": "e8b720a1",
   "metadata": {},
   "outputs": [
    {
     "data": {
      "text/html": [
       "<div>\n",
       "<style scoped>\n",
       "    .dataframe tbody tr th:only-of-type {\n",
       "        vertical-align: middle;\n",
       "    }\n",
       "\n",
       "    .dataframe tbody tr th {\n",
       "        vertical-align: top;\n",
       "    }\n",
       "\n",
       "    .dataframe thead th {\n",
       "        text-align: right;\n",
       "    }\n",
       "</style>\n",
       "<table border=\"1\" class=\"dataframe\">\n",
       "  <thead>\n",
       "    <tr style=\"text-align: right;\">\n",
       "      <th></th>\n",
       "      <th>name</th>\n",
       "    </tr>\n",
       "  </thead>\n",
       "  <tbody>\n",
       "    <tr>\n",
       "      <th>1397</th>\n",
       "      <td>None</td>\n",
       "    </tr>\n",
       "    <tr>\n",
       "      <th>1587</th>\n",
       "      <td>None</td>\n",
       "    </tr>\n",
       "    <tr>\n",
       "      <th>124</th>\n",
       "      <td>Cooper</td>\n",
       "    </tr>\n",
       "    <tr>\n",
       "      <th>148</th>\n",
       "      <td>None</td>\n",
       "    </tr>\n",
       "    <tr>\n",
       "      <th>1836</th>\n",
       "      <td>None</td>\n",
       "    </tr>\n",
       "    <tr>\n",
       "      <th>2060</th>\n",
       "      <td>None</td>\n",
       "    </tr>\n",
       "    <tr>\n",
       "      <th>997</th>\n",
       "      <td>Duke</td>\n",
       "    </tr>\n",
       "    <tr>\n",
       "      <th>500</th>\n",
       "      <td>Toby</td>\n",
       "    </tr>\n",
       "    <tr>\n",
       "      <th>410</th>\n",
       "      <td>Wyatt</td>\n",
       "    </tr>\n",
       "    <tr>\n",
       "      <th>1412</th>\n",
       "      <td>Cece</td>\n",
       "    </tr>\n",
       "  </tbody>\n",
       "</table>\n",
       "</div>"
      ],
      "text/plain": [
       "        name\n",
       "1397    None\n",
       "1587    None\n",
       "124   Cooper\n",
       "148     None\n",
       "1836    None\n",
       "2060    None\n",
       "997     Duke\n",
       "500     Toby\n",
       "410    Wyatt\n",
       "1412    Cece"
      ]
     },
     "execution_count": 168,
     "metadata": {},
     "output_type": "execute_result"
    }
   ],
   "source": [
    "twitter_archive_clean[['name']].sample(10)"
   ]
  },
  {
   "cell_type": "markdown",
   "id": "7edac09a",
   "metadata": {},
   "source": [
    "twitter_archive - COMPLETENESS ISSUE: Columns {in_reply_to_status_id , in_reply_to_user_id, retweeted_status_user_id, retweeted_status_timestamp} Are not useful columns."
   ]
  },
  {
   "cell_type": "markdown",
   "id": "9cc93ffb",
   "metadata": {},
   "source": [
    "**define**\n",
    "\n",
    "Use the drop function to remove unnecessary columns"
   ]
  },
  {
   "cell_type": "markdown",
   "id": "af529d67",
   "metadata": {},
   "source": [
    "**code**"
   ]
  },
  {
   "cell_type": "code",
   "execution_count": 169,
   "id": "87657f34",
   "metadata": {},
   "outputs": [],
   "source": [
    "twitter_archive_clean = twitter_archive_clean.drop(columns  =\n",
    "                           ['in_reply_to_status_id',\n",
    "                            'retweeted_status_user_id','retweeted_status_timestamp','in_reply_to_user_id']\n",
    "                          )"
   ]
  },
  {
   "cell_type": "markdown",
   "id": "8dbc93f4",
   "metadata": {},
   "source": [
    "**test**"
   ]
  },
  {
   "cell_type": "code",
   "execution_count": 170,
   "id": "b9ef51d3",
   "metadata": {
    "scrolled": true
   },
   "outputs": [
    {
     "data": {
      "text/html": [
       "<div>\n",
       "<style scoped>\n",
       "    .dataframe tbody tr th:only-of-type {\n",
       "        vertical-align: middle;\n",
       "    }\n",
       "\n",
       "    .dataframe tbody tr th {\n",
       "        vertical-align: top;\n",
       "    }\n",
       "\n",
       "    .dataframe thead th {\n",
       "        text-align: right;\n",
       "    }\n",
       "</style>\n",
       "<table border=\"1\" class=\"dataframe\">\n",
       "  <thead>\n",
       "    <tr style=\"text-align: right;\">\n",
       "      <th></th>\n",
       "      <th>tweet_id</th>\n",
       "      <th>timestamp</th>\n",
       "      <th>source</th>\n",
       "      <th>text</th>\n",
       "      <th>retweeted_status_id</th>\n",
       "      <th>expanded_urls</th>\n",
       "      <th>rating_numerator</th>\n",
       "      <th>rating_denominator</th>\n",
       "      <th>name</th>\n",
       "      <th>doggo</th>\n",
       "      <th>floofer</th>\n",
       "      <th>pupper</th>\n",
       "      <th>puppo</th>\n",
       "    </tr>\n",
       "  </thead>\n",
       "  <tbody>\n",
       "    <tr>\n",
       "      <th>0</th>\n",
       "      <td>892420643555336193</td>\n",
       "      <td>2017-08-01 16:23:56 +0000</td>\n",
       "      <td>&lt;a href=\"http://twitter.com/download/iphone\" rel=\"nofollow\"&gt;Twitter for iPhone&lt;/a&gt;</td>\n",
       "      <td>This is Phineas. He's a mystical boy. Only ever appears in the hole of a donut. 13/10 https://t.co/MgUWQ76dJU</td>\n",
       "      <td>NaN</td>\n",
       "      <td>https://twitter.com/dog_rates/status/892420643555336193/photo/1</td>\n",
       "      <td>13</td>\n",
       "      <td>10</td>\n",
       "      <td>Phineas</td>\n",
       "      <td>None</td>\n",
       "      <td>None</td>\n",
       "      <td>None</td>\n",
       "      <td>None</td>\n",
       "    </tr>\n",
       "    <tr>\n",
       "      <th>1</th>\n",
       "      <td>892177421306343426</td>\n",
       "      <td>2017-08-01 00:17:27 +0000</td>\n",
       "      <td>&lt;a href=\"http://twitter.com/download/iphone\" rel=\"nofollow\"&gt;Twitter for iPhone&lt;/a&gt;</td>\n",
       "      <td>This is Tilly. She's just checking pup on you. Hopes you're doing ok. If not, she's available for pats, snugs, boops, the whole bit. 13/10 https://t.co/0Xxu71qeIV</td>\n",
       "      <td>NaN</td>\n",
       "      <td>https://twitter.com/dog_rates/status/892177421306343426/photo/1</td>\n",
       "      <td>13</td>\n",
       "      <td>10</td>\n",
       "      <td>Tilly</td>\n",
       "      <td>None</td>\n",
       "      <td>None</td>\n",
       "      <td>None</td>\n",
       "      <td>None</td>\n",
       "    </tr>\n",
       "    <tr>\n",
       "      <th>2</th>\n",
       "      <td>891815181378084864</td>\n",
       "      <td>2017-07-31 00:18:03 +0000</td>\n",
       "      <td>&lt;a href=\"http://twitter.com/download/iphone\" rel=\"nofollow\"&gt;Twitter for iPhone&lt;/a&gt;</td>\n",
       "      <td>This is Archie. He is a rare Norwegian Pouncing Corgo. Lives in the tall grass. You never know when one may strike. 12/10 https://t.co/wUnZnhtVJB</td>\n",
       "      <td>NaN</td>\n",
       "      <td>https://twitter.com/dog_rates/status/891815181378084864/photo/1</td>\n",
       "      <td>12</td>\n",
       "      <td>10</td>\n",
       "      <td>Archie</td>\n",
       "      <td>None</td>\n",
       "      <td>None</td>\n",
       "      <td>None</td>\n",
       "      <td>None</td>\n",
       "    </tr>\n",
       "    <tr>\n",
       "      <th>3</th>\n",
       "      <td>891689557279858688</td>\n",
       "      <td>2017-07-30 15:58:51 +0000</td>\n",
       "      <td>&lt;a href=\"http://twitter.com/download/iphone\" rel=\"nofollow\"&gt;Twitter for iPhone&lt;/a&gt;</td>\n",
       "      <td>This is Darla. She commenced a snooze mid meal. 13/10 happens to the best of us https://t.co/tD36da7qLQ</td>\n",
       "      <td>NaN</td>\n",
       "      <td>https://twitter.com/dog_rates/status/891689557279858688/photo/1</td>\n",
       "      <td>13</td>\n",
       "      <td>10</td>\n",
       "      <td>Darla</td>\n",
       "      <td>None</td>\n",
       "      <td>None</td>\n",
       "      <td>None</td>\n",
       "      <td>None</td>\n",
       "    </tr>\n",
       "    <tr>\n",
       "      <th>4</th>\n",
       "      <td>891327558926688256</td>\n",
       "      <td>2017-07-29 16:00:24 +0000</td>\n",
       "      <td>&lt;a href=\"http://twitter.com/download/iphone\" rel=\"nofollow\"&gt;Twitter for iPhone&lt;/a&gt;</td>\n",
       "      <td>This is Franklin. He would like you to stop calling him \"cute.\" He is a very fierce shark and should be respected as such. 12/10 #BarkWeek https://t.co/AtUZn91f7f</td>\n",
       "      <td>NaN</td>\n",
       "      <td>https://twitter.com/dog_rates/status/891327558926688256/photo/1,https://twitter.com/dog_rates/status/891327558926688256/photo/1</td>\n",
       "      <td>12</td>\n",
       "      <td>10</td>\n",
       "      <td>Franklin</td>\n",
       "      <td>None</td>\n",
       "      <td>None</td>\n",
       "      <td>None</td>\n",
       "      <td>None</td>\n",
       "    </tr>\n",
       "  </tbody>\n",
       "</table>\n",
       "</div>"
      ],
      "text/plain": [
       "             tweet_id                  timestamp  \\\n",
       "0  892420643555336193  2017-08-01 16:23:56 +0000   \n",
       "1  892177421306343426  2017-08-01 00:17:27 +0000   \n",
       "2  891815181378084864  2017-07-31 00:18:03 +0000   \n",
       "3  891689557279858688  2017-07-30 15:58:51 +0000   \n",
       "4  891327558926688256  2017-07-29 16:00:24 +0000   \n",
       "\n",
       "                                                                               source  \\\n",
       "0  <a href=\"http://twitter.com/download/iphone\" rel=\"nofollow\">Twitter for iPhone</a>   \n",
       "1  <a href=\"http://twitter.com/download/iphone\" rel=\"nofollow\">Twitter for iPhone</a>   \n",
       "2  <a href=\"http://twitter.com/download/iphone\" rel=\"nofollow\">Twitter for iPhone</a>   \n",
       "3  <a href=\"http://twitter.com/download/iphone\" rel=\"nofollow\">Twitter for iPhone</a>   \n",
       "4  <a href=\"http://twitter.com/download/iphone\" rel=\"nofollow\">Twitter for iPhone</a>   \n",
       "\n",
       "                                                                                                                                                                 text  \\\n",
       "0                                                       This is Phineas. He's a mystical boy. Only ever appears in the hole of a donut. 13/10 https://t.co/MgUWQ76dJU   \n",
       "1  This is Tilly. She's just checking pup on you. Hopes you're doing ok. If not, she's available for pats, snugs, boops, the whole bit. 13/10 https://t.co/0Xxu71qeIV   \n",
       "2                   This is Archie. He is a rare Norwegian Pouncing Corgo. Lives in the tall grass. You never know when one may strike. 12/10 https://t.co/wUnZnhtVJB   \n",
       "3                                                             This is Darla. She commenced a snooze mid meal. 13/10 happens to the best of us https://t.co/tD36da7qLQ   \n",
       "4  This is Franklin. He would like you to stop calling him \"cute.\" He is a very fierce shark and should be respected as such. 12/10 #BarkWeek https://t.co/AtUZn91f7f   \n",
       "\n",
       "   retweeted_status_id  \\\n",
       "0                  NaN   \n",
       "1                  NaN   \n",
       "2                  NaN   \n",
       "3                  NaN   \n",
       "4                  NaN   \n",
       "\n",
       "                                                                                                                     expanded_urls  \\\n",
       "0                                                                  https://twitter.com/dog_rates/status/892420643555336193/photo/1   \n",
       "1                                                                  https://twitter.com/dog_rates/status/892177421306343426/photo/1   \n",
       "2                                                                  https://twitter.com/dog_rates/status/891815181378084864/photo/1   \n",
       "3                                                                  https://twitter.com/dog_rates/status/891689557279858688/photo/1   \n",
       "4  https://twitter.com/dog_rates/status/891327558926688256/photo/1,https://twitter.com/dog_rates/status/891327558926688256/photo/1   \n",
       "\n",
       "   rating_numerator  rating_denominator      name doggo floofer pupper puppo  \n",
       "0                13                  10   Phineas  None    None   None  None  \n",
       "1                13                  10     Tilly  None    None   None  None  \n",
       "2                12                  10    Archie  None    None   None  None  \n",
       "3                13                  10     Darla  None    None   None  None  \n",
       "4                12                  10  Franklin  None    None   None  None  "
      ]
     },
     "execution_count": 170,
     "metadata": {},
     "output_type": "execute_result"
    }
   ],
   "source": [
    "twitter_archive_clean.head()"
   ]
  },
  {
   "cell_type": "markdown",
   "id": "56d2c533",
   "metadata": {},
   "source": [
    "twitter_archive - VALIDITY ISSUE: There are some rows with multiple dog stages\n",
    "\n",
    "twitter_archive - Columns 'doggo', 'floofer', 'pupper', 'puppo' in twitter_archive should be a single column"
   ]
  },
  {
   "cell_type": "markdown",
   "id": "d29f9ebf",
   "metadata": {},
   "source": [
    "**define**\n",
    "\n",
    "create unique values for dogs with multiple stages. \n",
    "\n",
    "Create a single column for the doggo, floofer, pupper and puppo columns.\n",
    "\n",
    "Drop doggo, floofer, pupper and puppo columns"
   ]
  },
  {
   "cell_type": "markdown",
   "id": "f62679cb",
   "metadata": {},
   "source": [
    "**code**"
   ]
  },
  {
   "cell_type": "code",
   "execution_count": 171,
   "id": "d1a64b0e",
   "metadata": {},
   "outputs": [],
   "source": [
    "# handle none\n",
    "twitter_archive_clean.doggo.replace('None', '', inplace=True)\n",
    "twitter_archive_clean.floofer.replace('None', '', inplace=True)\n",
    "twitter_archive_clean.pupper.replace('None', '', inplace=True)\n",
    "twitter_archive_clean.puppo.replace('None', '', inplace=True)\n",
    "\n",
    "# merge into a single column\n",
    "twitter_archive_clean['dog_stage'] = twitter_archive_clean.doggo + twitter_archive_clean.floofer + twitter_archive_clean.pupper + twitter_archive_clean.puppo\n",
    "\n",
    "# handle multiple stages\n",
    "twitter_archive_clean.loc[twitter_archive_clean.dog_stage == 'doggopupper', 'dog_stage'] = 'doggo, pupper'\n",
    "twitter_archive_clean.loc[twitter_archive_clean.dog_stage == 'doggopuppo', 'dog_stage'] = 'doggo, puppo'\n",
    "twitter_archive_clean.loc[twitter_archive_clean.dog_stage == 'doggofloofer', 'dog_stage'] = 'doggo, floofer'\n",
    "\n",
    "# handle missing values\n",
    "twitter_archive_clean.loc[twitter_archive_clean.dog_stage == '', 'dog_stage'] = np.nan"
   ]
  },
  {
   "cell_type": "code",
   "execution_count": 172,
   "id": "6cc19c42",
   "metadata": {},
   "outputs": [],
   "source": [
    "#drop these columns\n",
    "twitter_archive_clean.drop(columns = ['doggo','floofer','pupper','puppo'],inplace=True)"
   ]
  },
  {
   "cell_type": "code",
   "execution_count": 173,
   "id": "1dcb9f18",
   "metadata": {},
   "outputs": [
    {
     "data": {
      "text/plain": [
       "pupper            245\n",
       "doggo              83\n",
       "puppo              29\n",
       "doggo, pupper      12\n",
       "floofer             9\n",
       "doggo, puppo        1\n",
       "doggo, floofer      1\n",
       "Name: dog_stage, dtype: int64"
      ]
     },
     "execution_count": 173,
     "metadata": {},
     "output_type": "execute_result"
    }
   ],
   "source": [
    "twitter_archive_clean['dog_stage'].value_counts()"
   ]
  },
  {
   "cell_type": "code",
   "execution_count": 174,
   "id": "34915cf1",
   "metadata": {},
   "outputs": [
    {
     "name": "stdout",
     "output_type": "stream",
     "text": [
      "<class 'pandas.core.frame.DataFrame'>\n",
      "Int64Index: 2352 entries, 0 to 2355\n",
      "Data columns (total 10 columns):\n",
      " #   Column               Non-Null Count  Dtype  \n",
      "---  ------               --------------  -----  \n",
      " 0   tweet_id             2352 non-null   int64  \n",
      " 1   timestamp            2352 non-null   object \n",
      " 2   source               2352 non-null   object \n",
      " 3   text                 2352 non-null   object \n",
      " 4   retweeted_status_id  181 non-null    float64\n",
      " 5   expanded_urls        2296 non-null   object \n",
      " 6   rating_numerator     2352 non-null   int64  \n",
      " 7   rating_denominator   2352 non-null   int64  \n",
      " 8   name                 2352 non-null   object \n",
      " 9   dog_stage            380 non-null    object \n",
      "dtypes: float64(1), int64(3), object(6)\n",
      "memory usage: 202.1+ KB\n"
     ]
    }
   ],
   "source": [
    "twitter_archive_clean.info()"
   ]
  },
  {
   "cell_type": "markdown",
   "id": "e23e63e2",
   "metadata": {},
   "source": [
    "df_json - Remove columns that aren't useful for analysis\n",
    "\n"
   ]
  },
  {
   "cell_type": "markdown",
   "id": "2f4445f6",
   "metadata": {},
   "source": [
    "**define**\n",
    "\n",
    "use the drop function to remove those columns"
   ]
  },
  {
   "cell_type": "markdown",
   "id": "ab18a7da",
   "metadata": {},
   "source": [
    "**code**"
   ]
  },
  {
   "cell_type": "code",
   "execution_count": 175,
   "id": "a38d7ff0",
   "metadata": {},
   "outputs": [],
   "source": [
    "df_json_clean= df_json_clean.drop(columns = ['favorited','retweeted',\n",
    "                            ])"
   ]
  },
  {
   "cell_type": "markdown",
   "id": "afe5e586",
   "metadata": {},
   "source": [
    "**test**"
   ]
  },
  {
   "cell_type": "code",
   "execution_count": 176,
   "id": "af878fbb",
   "metadata": {},
   "outputs": [
    {
     "data": {
      "text/html": [
       "<div>\n",
       "<style scoped>\n",
       "    .dataframe tbody tr th:only-of-type {\n",
       "        vertical-align: middle;\n",
       "    }\n",
       "\n",
       "    .dataframe tbody tr th {\n",
       "        vertical-align: top;\n",
       "    }\n",
       "\n",
       "    .dataframe thead th {\n",
       "        text-align: right;\n",
       "    }\n",
       "</style>\n",
       "<table border=\"1\" class=\"dataframe\">\n",
       "  <thead>\n",
       "    <tr style=\"text-align: right;\">\n",
       "      <th></th>\n",
       "      <th>id</th>\n",
       "      <th>retweet_count</th>\n",
       "      <th>favorite_count</th>\n",
       "      <th>created_at</th>\n",
       "      <th>text</th>\n",
       "    </tr>\n",
       "  </thead>\n",
       "  <tbody>\n",
       "    <tr>\n",
       "      <th>0</th>\n",
       "      <td>892420643555336193</td>\n",
       "      <td>7046</td>\n",
       "      <td>33914</td>\n",
       "      <td>Tue Aug 01 16:23:56 +0000 2017</td>\n",
       "      <td>This is Phineas. He's a mystical boy. Only ever appears in the hole of a donut. 13/10 https://t.co/MgUWQ76dJU</td>\n",
       "    </tr>\n",
       "    <tr>\n",
       "      <th>1</th>\n",
       "      <td>892177421306343426</td>\n",
       "      <td>5322</td>\n",
       "      <td>29398</td>\n",
       "      <td>Tue Aug 01 00:17:27 +0000 2017</td>\n",
       "      <td>This is Tilly. She's just checking pup on you. Hopes you're doing ok. If not, she's available for pats, snugs, boop… https://t.co/aQFSeaCu9L</td>\n",
       "    </tr>\n",
       "    <tr>\n",
       "      <th>2</th>\n",
       "      <td>891815181378084864</td>\n",
       "      <td>3501</td>\n",
       "      <td>22111</td>\n",
       "      <td>Mon Jul 31 00:18:03 +0000 2017</td>\n",
       "      <td>This is Archie. He is a rare Norwegian Pouncing Corgo. Lives in the tall grass. You never know when one may strike.… https://t.co/r0YlrsGCgy</td>\n",
       "    </tr>\n",
       "    <tr>\n",
       "      <th>3</th>\n",
       "      <td>891689557279858688</td>\n",
       "      <td>7257</td>\n",
       "      <td>37029</td>\n",
       "      <td>Sun Jul 30 15:58:51 +0000 2017</td>\n",
       "      <td>This is Darla. She commenced a snooze mid meal. 13/10 happens to the best of us https://t.co/tD36da7qLQ</td>\n",
       "    </tr>\n",
       "    <tr>\n",
       "      <th>4</th>\n",
       "      <td>891327558926688256</td>\n",
       "      <td>7799</td>\n",
       "      <td>35398</td>\n",
       "      <td>Sat Jul 29 16:00:24 +0000 2017</td>\n",
       "      <td>This is Franklin. He would like you to stop calling him \"cute.\" He is a very fierce shark and should be respected a… https://t.co/0g0KMIVXZ3</td>\n",
       "    </tr>\n",
       "  </tbody>\n",
       "</table>\n",
       "</div>"
      ],
      "text/plain": [
       "                   id  retweet_count  favorite_count  \\\n",
       "0  892420643555336193           7046           33914   \n",
       "1  892177421306343426           5322           29398   \n",
       "2  891815181378084864           3501           22111   \n",
       "3  891689557279858688           7257           37029   \n",
       "4  891327558926688256           7799           35398   \n",
       "\n",
       "                       created_at  \\\n",
       "0  Tue Aug 01 16:23:56 +0000 2017   \n",
       "1  Tue Aug 01 00:17:27 +0000 2017   \n",
       "2  Mon Jul 31 00:18:03 +0000 2017   \n",
       "3  Sun Jul 30 15:58:51 +0000 2017   \n",
       "4  Sat Jul 29 16:00:24 +0000 2017   \n",
       "\n",
       "                                                                                                                                           text  \n",
       "0                                 This is Phineas. He's a mystical boy. Only ever appears in the hole of a donut. 13/10 https://t.co/MgUWQ76dJU  \n",
       "1  This is Tilly. She's just checking pup on you. Hopes you're doing ok. If not, she's available for pats, snugs, boop… https://t.co/aQFSeaCu9L  \n",
       "2  This is Archie. He is a rare Norwegian Pouncing Corgo. Lives in the tall grass. You never know when one may strike.… https://t.co/r0YlrsGCgy  \n",
       "3                                       This is Darla. She commenced a snooze mid meal. 13/10 happens to the best of us https://t.co/tD36da7qLQ  \n",
       "4  This is Franklin. He would like you to stop calling him \"cute.\" He is a very fierce shark and should be respected a… https://t.co/0g0KMIVXZ3  "
      ]
     },
     "execution_count": 176,
     "metadata": {},
     "output_type": "execute_result"
    }
   ],
   "source": [
    "df_json_clean.head()"
   ]
  },
  {
   "cell_type": "markdown",
   "id": "71adbdc2",
   "metadata": {},
   "source": [
    "df_json - Change id column to tweet_id"
   ]
  },
  {
   "cell_type": "markdown",
   "id": "51497903",
   "metadata": {},
   "source": [
    "**define**\n",
    "\n",
    "use rename function to change id to tweet_id"
   ]
  },
  {
   "cell_type": "markdown",
   "id": "d98fa087",
   "metadata": {},
   "source": [
    "**code**"
   ]
  },
  {
   "cell_type": "code",
   "execution_count": 177,
   "id": "f8b84247",
   "metadata": {},
   "outputs": [],
   "source": [
    "df_json_clean.rename(columns = {\"id\":\"tweet_id\"},inplace=True)"
   ]
  },
  {
   "cell_type": "markdown",
   "id": "a35b8a14",
   "metadata": {},
   "source": [
    "**test**"
   ]
  },
  {
   "cell_type": "code",
   "execution_count": 178,
   "id": "58e269ff",
   "metadata": {},
   "outputs": [
    {
     "data": {
      "text/html": [
       "<div>\n",
       "<style scoped>\n",
       "    .dataframe tbody tr th:only-of-type {\n",
       "        vertical-align: middle;\n",
       "    }\n",
       "\n",
       "    .dataframe tbody tr th {\n",
       "        vertical-align: top;\n",
       "    }\n",
       "\n",
       "    .dataframe thead th {\n",
       "        text-align: right;\n",
       "    }\n",
       "</style>\n",
       "<table border=\"1\" class=\"dataframe\">\n",
       "  <thead>\n",
       "    <tr style=\"text-align: right;\">\n",
       "      <th></th>\n",
       "      <th>tweet_id</th>\n",
       "      <th>retweet_count</th>\n",
       "      <th>favorite_count</th>\n",
       "      <th>created_at</th>\n",
       "      <th>text</th>\n",
       "    </tr>\n",
       "  </thead>\n",
       "  <tbody>\n",
       "    <tr>\n",
       "      <th>0</th>\n",
       "      <td>892420643555336193</td>\n",
       "      <td>7046</td>\n",
       "      <td>33914</td>\n",
       "      <td>Tue Aug 01 16:23:56 +0000 2017</td>\n",
       "      <td>This is Phineas. He's a mystical boy. Only ever appears in the hole of a donut. 13/10 https://t.co/MgUWQ76dJU</td>\n",
       "    </tr>\n",
       "    <tr>\n",
       "      <th>1</th>\n",
       "      <td>892177421306343426</td>\n",
       "      <td>5322</td>\n",
       "      <td>29398</td>\n",
       "      <td>Tue Aug 01 00:17:27 +0000 2017</td>\n",
       "      <td>This is Tilly. She's just checking pup on you. Hopes you're doing ok. If not, she's available for pats, snugs, boop… https://t.co/aQFSeaCu9L</td>\n",
       "    </tr>\n",
       "    <tr>\n",
       "      <th>2</th>\n",
       "      <td>891815181378084864</td>\n",
       "      <td>3501</td>\n",
       "      <td>22111</td>\n",
       "      <td>Mon Jul 31 00:18:03 +0000 2017</td>\n",
       "      <td>This is Archie. He is a rare Norwegian Pouncing Corgo. Lives in the tall grass. You never know when one may strike.… https://t.co/r0YlrsGCgy</td>\n",
       "    </tr>\n",
       "    <tr>\n",
       "      <th>3</th>\n",
       "      <td>891689557279858688</td>\n",
       "      <td>7257</td>\n",
       "      <td>37029</td>\n",
       "      <td>Sun Jul 30 15:58:51 +0000 2017</td>\n",
       "      <td>This is Darla. She commenced a snooze mid meal. 13/10 happens to the best of us https://t.co/tD36da7qLQ</td>\n",
       "    </tr>\n",
       "    <tr>\n",
       "      <th>4</th>\n",
       "      <td>891327558926688256</td>\n",
       "      <td>7799</td>\n",
       "      <td>35398</td>\n",
       "      <td>Sat Jul 29 16:00:24 +0000 2017</td>\n",
       "      <td>This is Franklin. He would like you to stop calling him \"cute.\" He is a very fierce shark and should be respected a… https://t.co/0g0KMIVXZ3</td>\n",
       "    </tr>\n",
       "  </tbody>\n",
       "</table>\n",
       "</div>"
      ],
      "text/plain": [
       "             tweet_id  retweet_count  favorite_count  \\\n",
       "0  892420643555336193           7046           33914   \n",
       "1  892177421306343426           5322           29398   \n",
       "2  891815181378084864           3501           22111   \n",
       "3  891689557279858688           7257           37029   \n",
       "4  891327558926688256           7799           35398   \n",
       "\n",
       "                       created_at  \\\n",
       "0  Tue Aug 01 16:23:56 +0000 2017   \n",
       "1  Tue Aug 01 00:17:27 +0000 2017   \n",
       "2  Mon Jul 31 00:18:03 +0000 2017   \n",
       "3  Sun Jul 30 15:58:51 +0000 2017   \n",
       "4  Sat Jul 29 16:00:24 +0000 2017   \n",
       "\n",
       "                                                                                                                                           text  \n",
       "0                                 This is Phineas. He's a mystical boy. Only ever appears in the hole of a donut. 13/10 https://t.co/MgUWQ76dJU  \n",
       "1  This is Tilly. She's just checking pup on you. Hopes you're doing ok. If not, she's available for pats, snugs, boop… https://t.co/aQFSeaCu9L  \n",
       "2  This is Archie. He is a rare Norwegian Pouncing Corgo. Lives in the tall grass. You never know when one may strike.… https://t.co/r0YlrsGCgy  \n",
       "3                                       This is Darla. She commenced a snooze mid meal. 13/10 happens to the best of us https://t.co/tD36da7qLQ  \n",
       "4  This is Franklin. He would like you to stop calling him \"cute.\" He is a very fierce shark and should be respected a… https://t.co/0g0KMIVXZ3  "
      ]
     },
     "execution_count": 178,
     "metadata": {},
     "output_type": "execute_result"
    }
   ],
   "source": [
    "df_json_clean.head()"
   ]
  },
  {
   "cell_type": "markdown",
   "id": "9fcfca8b",
   "metadata": {},
   "source": [
    "image_predictions - CONSISTENCY ISSUE: The columns {p1,p2 and p3} has some values without a capitalized first letter."
   ]
  },
  {
   "cell_type": "markdown",
   "id": "5a0f9a33",
   "metadata": {},
   "source": [
    "**define**\n",
    "\n",
    "use the capitalize function to make the columns consistent"
   ]
  },
  {
   "cell_type": "markdown",
   "id": "161d1928",
   "metadata": {},
   "source": [
    "**code**"
   ]
  },
  {
   "cell_type": "code",
   "execution_count": 179,
   "id": "aaea6b60",
   "metadata": {},
   "outputs": [],
   "source": [
    "image_predictions_clean['p1'] = image_predictions_clean['p1'].str.capitalize()\n",
    "image_predictions_clean['p2'] = image_predictions_clean['p1'].str.capitalize()\n",
    "image_predictions_clean['p3'] = image_predictions_clean['p1'].str.capitalize()"
   ]
  },
  {
   "cell_type": "markdown",
   "id": "6249ca58",
   "metadata": {},
   "source": [
    "**test**"
   ]
  },
  {
   "cell_type": "code",
   "execution_count": 180,
   "id": "a99f68aa",
   "metadata": {
    "scrolled": true
   },
   "outputs": [
    {
     "data": {
      "text/html": [
       "<div>\n",
       "<style scoped>\n",
       "    .dataframe tbody tr th:only-of-type {\n",
       "        vertical-align: middle;\n",
       "    }\n",
       "\n",
       "    .dataframe tbody tr th {\n",
       "        vertical-align: top;\n",
       "    }\n",
       "\n",
       "    .dataframe thead th {\n",
       "        text-align: right;\n",
       "    }\n",
       "</style>\n",
       "<table border=\"1\" class=\"dataframe\">\n",
       "  <thead>\n",
       "    <tr style=\"text-align: right;\">\n",
       "      <th></th>\n",
       "      <th>tweet_id</th>\n",
       "      <th>jpg_url</th>\n",
       "      <th>img_num</th>\n",
       "      <th>p1</th>\n",
       "      <th>p1_conf</th>\n",
       "      <th>p1_dog</th>\n",
       "      <th>p2</th>\n",
       "      <th>p2_conf</th>\n",
       "      <th>p2_dog</th>\n",
       "      <th>p3</th>\n",
       "      <th>p3_conf</th>\n",
       "      <th>p3_dog</th>\n",
       "    </tr>\n",
       "  </thead>\n",
       "  <tbody>\n",
       "    <tr>\n",
       "      <th>0</th>\n",
       "      <td>666020888022790149</td>\n",
       "      <td>https://pbs.twimg.com/media/CT4udn0WwAA0aMy.jpg</td>\n",
       "      <td>1</td>\n",
       "      <td>Welsh_springer_spaniel</td>\n",
       "      <td>0.465074</td>\n",
       "      <td>True</td>\n",
       "      <td>Welsh_springer_spaniel</td>\n",
       "      <td>0.156665</td>\n",
       "      <td>True</td>\n",
       "      <td>Welsh_springer_spaniel</td>\n",
       "      <td>0.061428</td>\n",
       "      <td>True</td>\n",
       "    </tr>\n",
       "    <tr>\n",
       "      <th>1</th>\n",
       "      <td>666029285002620928</td>\n",
       "      <td>https://pbs.twimg.com/media/CT42GRgUYAA5iDo.jpg</td>\n",
       "      <td>1</td>\n",
       "      <td>Redbone</td>\n",
       "      <td>0.506826</td>\n",
       "      <td>True</td>\n",
       "      <td>Redbone</td>\n",
       "      <td>0.074192</td>\n",
       "      <td>True</td>\n",
       "      <td>Redbone</td>\n",
       "      <td>0.072010</td>\n",
       "      <td>True</td>\n",
       "    </tr>\n",
       "    <tr>\n",
       "      <th>2</th>\n",
       "      <td>666033412701032449</td>\n",
       "      <td>https://pbs.twimg.com/media/CT4521TWwAEvMyu.jpg</td>\n",
       "      <td>1</td>\n",
       "      <td>German_shepherd</td>\n",
       "      <td>0.596461</td>\n",
       "      <td>True</td>\n",
       "      <td>German_shepherd</td>\n",
       "      <td>0.138584</td>\n",
       "      <td>True</td>\n",
       "      <td>German_shepherd</td>\n",
       "      <td>0.116197</td>\n",
       "      <td>True</td>\n",
       "    </tr>\n",
       "    <tr>\n",
       "      <th>3</th>\n",
       "      <td>666044226329800704</td>\n",
       "      <td>https://pbs.twimg.com/media/CT5Dr8HUEAA-lEu.jpg</td>\n",
       "      <td>1</td>\n",
       "      <td>Rhodesian_ridgeback</td>\n",
       "      <td>0.408143</td>\n",
       "      <td>True</td>\n",
       "      <td>Rhodesian_ridgeback</td>\n",
       "      <td>0.360687</td>\n",
       "      <td>True</td>\n",
       "      <td>Rhodesian_ridgeback</td>\n",
       "      <td>0.222752</td>\n",
       "      <td>True</td>\n",
       "    </tr>\n",
       "    <tr>\n",
       "      <th>4</th>\n",
       "      <td>666049248165822465</td>\n",
       "      <td>https://pbs.twimg.com/media/CT5IQmsXIAAKY4A.jpg</td>\n",
       "      <td>1</td>\n",
       "      <td>Miniature_pinscher</td>\n",
       "      <td>0.560311</td>\n",
       "      <td>True</td>\n",
       "      <td>Miniature_pinscher</td>\n",
       "      <td>0.243682</td>\n",
       "      <td>True</td>\n",
       "      <td>Miniature_pinscher</td>\n",
       "      <td>0.154629</td>\n",
       "      <td>True</td>\n",
       "    </tr>\n",
       "  </tbody>\n",
       "</table>\n",
       "</div>"
      ],
      "text/plain": [
       "             tweet_id                                          jpg_url  \\\n",
       "0  666020888022790149  https://pbs.twimg.com/media/CT4udn0WwAA0aMy.jpg   \n",
       "1  666029285002620928  https://pbs.twimg.com/media/CT42GRgUYAA5iDo.jpg   \n",
       "2  666033412701032449  https://pbs.twimg.com/media/CT4521TWwAEvMyu.jpg   \n",
       "3  666044226329800704  https://pbs.twimg.com/media/CT5Dr8HUEAA-lEu.jpg   \n",
       "4  666049248165822465  https://pbs.twimg.com/media/CT5IQmsXIAAKY4A.jpg   \n",
       "\n",
       "   img_num                      p1   p1_conf  p1_dog                      p2  \\\n",
       "0        1  Welsh_springer_spaniel  0.465074    True  Welsh_springer_spaniel   \n",
       "1        1                 Redbone  0.506826    True                 Redbone   \n",
       "2        1         German_shepherd  0.596461    True         German_shepherd   \n",
       "3        1     Rhodesian_ridgeback  0.408143    True     Rhodesian_ridgeback   \n",
       "4        1      Miniature_pinscher  0.560311    True      Miniature_pinscher   \n",
       "\n",
       "    p2_conf  p2_dog                      p3   p3_conf  p3_dog  \n",
       "0  0.156665    True  Welsh_springer_spaniel  0.061428    True  \n",
       "1  0.074192    True                 Redbone  0.072010    True  \n",
       "2  0.138584    True         German_shepherd  0.116197    True  \n",
       "3  0.360687    True     Rhodesian_ridgeback  0.222752    True  \n",
       "4  0.243682    True      Miniature_pinscher  0.154629    True  "
      ]
     },
     "execution_count": 180,
     "metadata": {},
     "output_type": "execute_result"
    }
   ],
   "source": [
    "image_predictions_clean.head()"
   ]
  },
  {
   "cell_type": "markdown",
   "id": "74e5039d",
   "metadata": {},
   "source": [
    "image_predictions - CONSISTENCY ISSUE: The column names are not descriptive enough\n"
   ]
  },
  {
   "cell_type": "markdown",
   "id": "4749f661",
   "metadata": {},
   "source": [
    "**define**\n",
    "\n",
    "rename every column name using rename function"
   ]
  },
  {
   "cell_type": "markdown",
   "id": "c14d0faf",
   "metadata": {},
   "source": [
    "**code**"
   ]
  },
  {
   "cell_type": "code",
   "execution_count": 181,
   "id": "b49f718e",
   "metadata": {},
   "outputs": [],
   "source": [
    "image_predictions_clean.rename(columns={'jpg_url':'image_url','img_num':'image_number','p1':'prediction_one', 'p1_conf': 'confidence_one', 'p1_dog': 'dog_one',\n",
    "                                  'p2': 'prediction_two', 'p2_conf': 'confidence_two', 'p2_dog': 'dog_two',\n",
    "                                  'p3': 'prediction_three', 'p3_conf': 'confidence_three', 'p3_dog': 'dog_three'}, inplace = True)"
   ]
  },
  {
   "cell_type": "markdown",
   "id": "00c19370",
   "metadata": {},
   "source": [
    "**test**"
   ]
  },
  {
   "cell_type": "code",
   "execution_count": 182,
   "id": "e8b85351",
   "metadata": {
    "scrolled": false
   },
   "outputs": [
    {
     "data": {
      "text/html": [
       "<div>\n",
       "<style scoped>\n",
       "    .dataframe tbody tr th:only-of-type {\n",
       "        vertical-align: middle;\n",
       "    }\n",
       "\n",
       "    .dataframe tbody tr th {\n",
       "        vertical-align: top;\n",
       "    }\n",
       "\n",
       "    .dataframe thead th {\n",
       "        text-align: right;\n",
       "    }\n",
       "</style>\n",
       "<table border=\"1\" class=\"dataframe\">\n",
       "  <thead>\n",
       "    <tr style=\"text-align: right;\">\n",
       "      <th></th>\n",
       "      <th>tweet_id</th>\n",
       "      <th>image_url</th>\n",
       "      <th>image_number</th>\n",
       "      <th>prediction_one</th>\n",
       "      <th>confidence_one</th>\n",
       "      <th>dog_one</th>\n",
       "      <th>prediction_two</th>\n",
       "      <th>confidence_two</th>\n",
       "      <th>dog_two</th>\n",
       "      <th>prediction_three</th>\n",
       "      <th>confidence_three</th>\n",
       "      <th>dog_three</th>\n",
       "    </tr>\n",
       "  </thead>\n",
       "  <tbody>\n",
       "    <tr>\n",
       "      <th>0</th>\n",
       "      <td>666020888022790149</td>\n",
       "      <td>https://pbs.twimg.com/media/CT4udn0WwAA0aMy.jpg</td>\n",
       "      <td>1</td>\n",
       "      <td>Welsh_springer_spaniel</td>\n",
       "      <td>0.465074</td>\n",
       "      <td>True</td>\n",
       "      <td>Welsh_springer_spaniel</td>\n",
       "      <td>0.156665</td>\n",
       "      <td>True</td>\n",
       "      <td>Welsh_springer_spaniel</td>\n",
       "      <td>0.061428</td>\n",
       "      <td>True</td>\n",
       "    </tr>\n",
       "    <tr>\n",
       "      <th>1</th>\n",
       "      <td>666029285002620928</td>\n",
       "      <td>https://pbs.twimg.com/media/CT42GRgUYAA5iDo.jpg</td>\n",
       "      <td>1</td>\n",
       "      <td>Redbone</td>\n",
       "      <td>0.506826</td>\n",
       "      <td>True</td>\n",
       "      <td>Redbone</td>\n",
       "      <td>0.074192</td>\n",
       "      <td>True</td>\n",
       "      <td>Redbone</td>\n",
       "      <td>0.072010</td>\n",
       "      <td>True</td>\n",
       "    </tr>\n",
       "    <tr>\n",
       "      <th>2</th>\n",
       "      <td>666033412701032449</td>\n",
       "      <td>https://pbs.twimg.com/media/CT4521TWwAEvMyu.jpg</td>\n",
       "      <td>1</td>\n",
       "      <td>German_shepherd</td>\n",
       "      <td>0.596461</td>\n",
       "      <td>True</td>\n",
       "      <td>German_shepherd</td>\n",
       "      <td>0.138584</td>\n",
       "      <td>True</td>\n",
       "      <td>German_shepherd</td>\n",
       "      <td>0.116197</td>\n",
       "      <td>True</td>\n",
       "    </tr>\n",
       "    <tr>\n",
       "      <th>3</th>\n",
       "      <td>666044226329800704</td>\n",
       "      <td>https://pbs.twimg.com/media/CT5Dr8HUEAA-lEu.jpg</td>\n",
       "      <td>1</td>\n",
       "      <td>Rhodesian_ridgeback</td>\n",
       "      <td>0.408143</td>\n",
       "      <td>True</td>\n",
       "      <td>Rhodesian_ridgeback</td>\n",
       "      <td>0.360687</td>\n",
       "      <td>True</td>\n",
       "      <td>Rhodesian_ridgeback</td>\n",
       "      <td>0.222752</td>\n",
       "      <td>True</td>\n",
       "    </tr>\n",
       "    <tr>\n",
       "      <th>4</th>\n",
       "      <td>666049248165822465</td>\n",
       "      <td>https://pbs.twimg.com/media/CT5IQmsXIAAKY4A.jpg</td>\n",
       "      <td>1</td>\n",
       "      <td>Miniature_pinscher</td>\n",
       "      <td>0.560311</td>\n",
       "      <td>True</td>\n",
       "      <td>Miniature_pinscher</td>\n",
       "      <td>0.243682</td>\n",
       "      <td>True</td>\n",
       "      <td>Miniature_pinscher</td>\n",
       "      <td>0.154629</td>\n",
       "      <td>True</td>\n",
       "    </tr>\n",
       "  </tbody>\n",
       "</table>\n",
       "</div>"
      ],
      "text/plain": [
       "             tweet_id                                        image_url  \\\n",
       "0  666020888022790149  https://pbs.twimg.com/media/CT4udn0WwAA0aMy.jpg   \n",
       "1  666029285002620928  https://pbs.twimg.com/media/CT42GRgUYAA5iDo.jpg   \n",
       "2  666033412701032449  https://pbs.twimg.com/media/CT4521TWwAEvMyu.jpg   \n",
       "3  666044226329800704  https://pbs.twimg.com/media/CT5Dr8HUEAA-lEu.jpg   \n",
       "4  666049248165822465  https://pbs.twimg.com/media/CT5IQmsXIAAKY4A.jpg   \n",
       "\n",
       "   image_number          prediction_one  confidence_one  dog_one  \\\n",
       "0             1  Welsh_springer_spaniel        0.465074     True   \n",
       "1             1                 Redbone        0.506826     True   \n",
       "2             1         German_shepherd        0.596461     True   \n",
       "3             1     Rhodesian_ridgeback        0.408143     True   \n",
       "4             1      Miniature_pinscher        0.560311     True   \n",
       "\n",
       "           prediction_two  confidence_two  dog_two        prediction_three  \\\n",
       "0  Welsh_springer_spaniel        0.156665     True  Welsh_springer_spaniel   \n",
       "1                 Redbone        0.074192     True                 Redbone   \n",
       "2         German_shepherd        0.138584     True         German_shepherd   \n",
       "3     Rhodesian_ridgeback        0.360687     True     Rhodesian_ridgeback   \n",
       "4      Miniature_pinscher        0.243682     True      Miniature_pinscher   \n",
       "\n",
       "   confidence_three  dog_three  \n",
       "0          0.061428       True  \n",
       "1          0.072010       True  \n",
       "2          0.116197       True  \n",
       "3          0.222752       True  \n",
       "4          0.154629       True  "
      ]
     },
     "execution_count": 182,
     "metadata": {},
     "output_type": "execute_result"
    }
   ],
   "source": [
    "image_predictions_clean.head()"
   ]
  },
  {
   "cell_type": "markdown",
   "id": "0b5c2d55",
   "metadata": {},
   "source": [
    "<h2>TIDINESS CLEAN<h2>"
   ]
  },
  {
   "cell_type": "markdown",
   "id": "8ca84c99",
   "metadata": {},
   "source": [
    "df_json, twitter_archive, and image_predictions -  The dataframes should be joined at their end. "
   ]
  },
  {
   "cell_type": "markdown",
   "id": "b7ed3551",
   "metadata": {},
   "source": [
    "**define**\n",
    "\n",
    "use merge function to join the three datasets together"
   ]
  },
  {
   "cell_type": "markdown",
   "id": "f9a12791",
   "metadata": {},
   "source": [
    "**code**"
   ]
  },
  {
   "cell_type": "code",
   "execution_count": 183,
   "id": "32e7bab3",
   "metadata": {},
   "outputs": [],
   "source": [
    "tweet_master = pd.merge(twitter_archive_clean,image_predictions_clean, how='left', on = ['tweet_id'])\n",
    "\n",
    "tweet_master = tweet_master.loc[tweet_master['image_url'].notnull(),:]"
   ]
  },
  {
   "cell_type": "code",
   "execution_count": 184,
   "id": "18845e26",
   "metadata": {},
   "outputs": [],
   "source": [
    "twitter_archive_master = pd.merge(tweet_master, df_json_clean, \n",
    "                      how = 'inner', on = ['tweet_id'])"
   ]
  },
  {
   "cell_type": "code",
   "execution_count": 185,
   "id": "e65626ed",
   "metadata": {},
   "outputs": [],
   "source": [
    "#drop redundant column\n",
    "twitter_archive_master.drop(columns = ['text_y'],inplace = True)\n",
    "#rename created column\n",
    "twitter_archive_master.rename(columns  = {\"text_x\":\"text\"},inplace=True)"
   ]
  },
  {
   "cell_type": "markdown",
   "id": "187e10e4",
   "metadata": {},
   "source": [
    "**test**"
   ]
  },
  {
   "cell_type": "code",
   "execution_count": 186,
   "id": "9ba17b94",
   "metadata": {},
   "outputs": [
    {
     "data": {
      "text/html": [
       "<div>\n",
       "<style scoped>\n",
       "    .dataframe tbody tr th:only-of-type {\n",
       "        vertical-align: middle;\n",
       "    }\n",
       "\n",
       "    .dataframe tbody tr th {\n",
       "        vertical-align: top;\n",
       "    }\n",
       "\n",
       "    .dataframe thead th {\n",
       "        text-align: right;\n",
       "    }\n",
       "</style>\n",
       "<table border=\"1\" class=\"dataframe\">\n",
       "  <thead>\n",
       "    <tr style=\"text-align: right;\">\n",
       "      <th></th>\n",
       "      <th>tweet_id</th>\n",
       "      <th>timestamp</th>\n",
       "      <th>source</th>\n",
       "      <th>text</th>\n",
       "      <th>retweeted_status_id</th>\n",
       "      <th>expanded_urls</th>\n",
       "      <th>rating_numerator</th>\n",
       "      <th>rating_denominator</th>\n",
       "      <th>name</th>\n",
       "      <th>dog_stage</th>\n",
       "      <th>...</th>\n",
       "      <th>dog_one</th>\n",
       "      <th>prediction_two</th>\n",
       "      <th>confidence_two</th>\n",
       "      <th>dog_two</th>\n",
       "      <th>prediction_three</th>\n",
       "      <th>confidence_three</th>\n",
       "      <th>dog_three</th>\n",
       "      <th>retweet_count</th>\n",
       "      <th>favorite_count</th>\n",
       "      <th>created_at</th>\n",
       "    </tr>\n",
       "  </thead>\n",
       "  <tbody>\n",
       "    <tr>\n",
       "      <th>0</th>\n",
       "      <td>892420643555336193</td>\n",
       "      <td>2017-08-01 16:23:56 +0000</td>\n",
       "      <td>&lt;a href=\"http://twitter.com/download/iphone\" rel=\"nofollow\"&gt;Twitter for iPhone&lt;/a&gt;</td>\n",
       "      <td>This is Phineas. He's a mystical boy. Only ever appears in the hole of a donut. 13/10 https://t.co/MgUWQ76dJU</td>\n",
       "      <td>NaN</td>\n",
       "      <td>https://twitter.com/dog_rates/status/892420643555336193/photo/1</td>\n",
       "      <td>13</td>\n",
       "      <td>10</td>\n",
       "      <td>Phineas</td>\n",
       "      <td>NaN</td>\n",
       "      <td>...</td>\n",
       "      <td>False</td>\n",
       "      <td>Orange</td>\n",
       "      <td>0.085851</td>\n",
       "      <td>False</td>\n",
       "      <td>Orange</td>\n",
       "      <td>0.076110</td>\n",
       "      <td>False</td>\n",
       "      <td>7046</td>\n",
       "      <td>33914</td>\n",
       "      <td>Tue Aug 01 16:23:56 +0000 2017</td>\n",
       "    </tr>\n",
       "    <tr>\n",
       "      <th>1</th>\n",
       "      <td>892177421306343426</td>\n",
       "      <td>2017-08-01 00:17:27 +0000</td>\n",
       "      <td>&lt;a href=\"http://twitter.com/download/iphone\" rel=\"nofollow\"&gt;Twitter for iPhone&lt;/a&gt;</td>\n",
       "      <td>This is Tilly. She's just checking pup on you. Hopes you're doing ok. If not, she's available for pats, snugs, boops, the whole bit. 13/10 https://t.co/0Xxu71qeIV</td>\n",
       "      <td>NaN</td>\n",
       "      <td>https://twitter.com/dog_rates/status/892177421306343426/photo/1</td>\n",
       "      <td>13</td>\n",
       "      <td>10</td>\n",
       "      <td>Tilly</td>\n",
       "      <td>NaN</td>\n",
       "      <td>...</td>\n",
       "      <td>True</td>\n",
       "      <td>Chihuahua</td>\n",
       "      <td>0.090647</td>\n",
       "      <td>True</td>\n",
       "      <td>Chihuahua</td>\n",
       "      <td>0.068957</td>\n",
       "      <td>True</td>\n",
       "      <td>5322</td>\n",
       "      <td>29398</td>\n",
       "      <td>Tue Aug 01 00:17:27 +0000 2017</td>\n",
       "    </tr>\n",
       "    <tr>\n",
       "      <th>2</th>\n",
       "      <td>891815181378084864</td>\n",
       "      <td>2017-07-31 00:18:03 +0000</td>\n",
       "      <td>&lt;a href=\"http://twitter.com/download/iphone\" rel=\"nofollow\"&gt;Twitter for iPhone&lt;/a&gt;</td>\n",
       "      <td>This is Archie. He is a rare Norwegian Pouncing Corgo. Lives in the tall grass. You never know when one may strike. 12/10 https://t.co/wUnZnhtVJB</td>\n",
       "      <td>NaN</td>\n",
       "      <td>https://twitter.com/dog_rates/status/891815181378084864/photo/1</td>\n",
       "      <td>12</td>\n",
       "      <td>10</td>\n",
       "      <td>Archie</td>\n",
       "      <td>NaN</td>\n",
       "      <td>...</td>\n",
       "      <td>True</td>\n",
       "      <td>Chihuahua</td>\n",
       "      <td>0.078253</td>\n",
       "      <td>True</td>\n",
       "      <td>Chihuahua</td>\n",
       "      <td>0.031379</td>\n",
       "      <td>True</td>\n",
       "      <td>3501</td>\n",
       "      <td>22111</td>\n",
       "      <td>Mon Jul 31 00:18:03 +0000 2017</td>\n",
       "    </tr>\n",
       "    <tr>\n",
       "      <th>3</th>\n",
       "      <td>891689557279858688</td>\n",
       "      <td>2017-07-30 15:58:51 +0000</td>\n",
       "      <td>&lt;a href=\"http://twitter.com/download/iphone\" rel=\"nofollow\"&gt;Twitter for iPhone&lt;/a&gt;</td>\n",
       "      <td>This is Darla. She commenced a snooze mid meal. 13/10 happens to the best of us https://t.co/tD36da7qLQ</td>\n",
       "      <td>NaN</td>\n",
       "      <td>https://twitter.com/dog_rates/status/891689557279858688/photo/1</td>\n",
       "      <td>13</td>\n",
       "      <td>10</td>\n",
       "      <td>Darla</td>\n",
       "      <td>NaN</td>\n",
       "      <td>...</td>\n",
       "      <td>False</td>\n",
       "      <td>Paper_towel</td>\n",
       "      <td>0.168086</td>\n",
       "      <td>True</td>\n",
       "      <td>Paper_towel</td>\n",
       "      <td>0.040836</td>\n",
       "      <td>False</td>\n",
       "      <td>7257</td>\n",
       "      <td>37029</td>\n",
       "      <td>Sun Jul 30 15:58:51 +0000 2017</td>\n",
       "    </tr>\n",
       "    <tr>\n",
       "      <th>4</th>\n",
       "      <td>891327558926688256</td>\n",
       "      <td>2017-07-29 16:00:24 +0000</td>\n",
       "      <td>&lt;a href=\"http://twitter.com/download/iphone\" rel=\"nofollow\"&gt;Twitter for iPhone&lt;/a&gt;</td>\n",
       "      <td>This is Franklin. He would like you to stop calling him \"cute.\" He is a very fierce shark and should be respected as such. 12/10 #BarkWeek https://t.co/AtUZn91f7f</td>\n",
       "      <td>NaN</td>\n",
       "      <td>https://twitter.com/dog_rates/status/891327558926688256/photo/1,https://twitter.com/dog_rates/status/891327558926688256/photo/1</td>\n",
       "      <td>12</td>\n",
       "      <td>10</td>\n",
       "      <td>Franklin</td>\n",
       "      <td>NaN</td>\n",
       "      <td>...</td>\n",
       "      <td>True</td>\n",
       "      <td>Basset</td>\n",
       "      <td>0.225770</td>\n",
       "      <td>True</td>\n",
       "      <td>Basset</td>\n",
       "      <td>0.175219</td>\n",
       "      <td>True</td>\n",
       "      <td>7799</td>\n",
       "      <td>35398</td>\n",
       "      <td>Sat Jul 29 16:00:24 +0000 2017</td>\n",
       "    </tr>\n",
       "  </tbody>\n",
       "</table>\n",
       "<p>5 rows × 24 columns</p>\n",
       "</div>"
      ],
      "text/plain": [
       "             tweet_id                  timestamp  \\\n",
       "0  892420643555336193  2017-08-01 16:23:56 +0000   \n",
       "1  892177421306343426  2017-08-01 00:17:27 +0000   \n",
       "2  891815181378084864  2017-07-31 00:18:03 +0000   \n",
       "3  891689557279858688  2017-07-30 15:58:51 +0000   \n",
       "4  891327558926688256  2017-07-29 16:00:24 +0000   \n",
       "\n",
       "                                                                               source  \\\n",
       "0  <a href=\"http://twitter.com/download/iphone\" rel=\"nofollow\">Twitter for iPhone</a>   \n",
       "1  <a href=\"http://twitter.com/download/iphone\" rel=\"nofollow\">Twitter for iPhone</a>   \n",
       "2  <a href=\"http://twitter.com/download/iphone\" rel=\"nofollow\">Twitter for iPhone</a>   \n",
       "3  <a href=\"http://twitter.com/download/iphone\" rel=\"nofollow\">Twitter for iPhone</a>   \n",
       "4  <a href=\"http://twitter.com/download/iphone\" rel=\"nofollow\">Twitter for iPhone</a>   \n",
       "\n",
       "                                                                                                                                                                 text  \\\n",
       "0                                                       This is Phineas. He's a mystical boy. Only ever appears in the hole of a donut. 13/10 https://t.co/MgUWQ76dJU   \n",
       "1  This is Tilly. She's just checking pup on you. Hopes you're doing ok. If not, she's available for pats, snugs, boops, the whole bit. 13/10 https://t.co/0Xxu71qeIV   \n",
       "2                   This is Archie. He is a rare Norwegian Pouncing Corgo. Lives in the tall grass. You never know when one may strike. 12/10 https://t.co/wUnZnhtVJB   \n",
       "3                                                             This is Darla. She commenced a snooze mid meal. 13/10 happens to the best of us https://t.co/tD36da7qLQ   \n",
       "4  This is Franklin. He would like you to stop calling him \"cute.\" He is a very fierce shark and should be respected as such. 12/10 #BarkWeek https://t.co/AtUZn91f7f   \n",
       "\n",
       "   retweeted_status_id  \\\n",
       "0                  NaN   \n",
       "1                  NaN   \n",
       "2                  NaN   \n",
       "3                  NaN   \n",
       "4                  NaN   \n",
       "\n",
       "                                                                                                                     expanded_urls  \\\n",
       "0                                                                  https://twitter.com/dog_rates/status/892420643555336193/photo/1   \n",
       "1                                                                  https://twitter.com/dog_rates/status/892177421306343426/photo/1   \n",
       "2                                                                  https://twitter.com/dog_rates/status/891815181378084864/photo/1   \n",
       "3                                                                  https://twitter.com/dog_rates/status/891689557279858688/photo/1   \n",
       "4  https://twitter.com/dog_rates/status/891327558926688256/photo/1,https://twitter.com/dog_rates/status/891327558926688256/photo/1   \n",
       "\n",
       "   rating_numerator  rating_denominator      name dog_stage  ... dog_one  \\\n",
       "0                13                  10   Phineas       NaN  ...   False   \n",
       "1                13                  10     Tilly       NaN  ...    True   \n",
       "2                12                  10    Archie       NaN  ...    True   \n",
       "3                13                  10     Darla       NaN  ...   False   \n",
       "4                12                  10  Franklin       NaN  ...    True   \n",
       "\n",
       "   prediction_two confidence_two  dog_two prediction_three confidence_three  \\\n",
       "0          Orange       0.085851    False           Orange         0.076110   \n",
       "1       Chihuahua       0.090647     True        Chihuahua         0.068957   \n",
       "2       Chihuahua       0.078253     True        Chihuahua         0.031379   \n",
       "3     Paper_towel       0.168086     True      Paper_towel         0.040836   \n",
       "4          Basset       0.225770     True           Basset         0.175219   \n",
       "\n",
       "   dog_three retweet_count favorite_count                      created_at  \n",
       "0      False          7046          33914  Tue Aug 01 16:23:56 +0000 2017  \n",
       "1       True          5322          29398  Tue Aug 01 00:17:27 +0000 2017  \n",
       "2       True          3501          22111  Mon Jul 31 00:18:03 +0000 2017  \n",
       "3      False          7257          37029  Sun Jul 30 15:58:51 +0000 2017  \n",
       "4       True          7799          35398  Sat Jul 29 16:00:24 +0000 2017  \n",
       "\n",
       "[5 rows x 24 columns]"
      ]
     },
     "execution_count": 186,
     "metadata": {},
     "output_type": "execute_result"
    }
   ],
   "source": [
    "twitter_archive_master.head()"
   ]
  },
  {
   "cell_type": "code",
   "execution_count": 187,
   "id": "88f1d3cd",
   "metadata": {},
   "outputs": [
    {
     "name": "stdout",
     "output_type": "stream",
     "text": [
      "<class 'pandas.core.frame.DataFrame'>\n",
      "Int64Index: 2055 entries, 0 to 2054\n",
      "Data columns (total 24 columns):\n",
      " #   Column               Non-Null Count  Dtype  \n",
      "---  ------               --------------  -----  \n",
      " 0   tweet_id             2055 non-null   int64  \n",
      " 1   timestamp            2055 non-null   object \n",
      " 2   source               2055 non-null   object \n",
      " 3   text                 2055 non-null   object \n",
      " 4   retweeted_status_id  71 non-null     float64\n",
      " 5   expanded_urls        2055 non-null   object \n",
      " 6   rating_numerator     2055 non-null   int64  \n",
      " 7   rating_denominator   2055 non-null   int64  \n",
      " 8   name                 2055 non-null   object \n",
      " 9   dog_stage            318 non-null    object \n",
      " 10  image_url            2055 non-null   object \n",
      " 11  image_number         2055 non-null   float64\n",
      " 12  prediction_one       2055 non-null   object \n",
      " 13  confidence_one       2055 non-null   float64\n",
      " 14  dog_one              2055 non-null   object \n",
      " 15  prediction_two       2055 non-null   object \n",
      " 16  confidence_two       2055 non-null   float64\n",
      " 17  dog_two              2055 non-null   object \n",
      " 18  prediction_three     2055 non-null   object \n",
      " 19  confidence_three     2055 non-null   float64\n",
      " 20  dog_three            2055 non-null   object \n",
      " 21  retweet_count        2055 non-null   int64  \n",
      " 22  favorite_count       2055 non-null   int64  \n",
      " 23  created_at           2055 non-null   object \n",
      "dtypes: float64(5), int64(5), object(14)\n",
      "memory usage: 401.4+ KB\n"
     ]
    }
   ],
   "source": [
    "twitter_archive_master.info()"
   ]
  },
  {
   "cell_type": "markdown",
   "id": "74c17ab5",
   "metadata": {},
   "source": [
    "<h1>STORE DATA</h1>\n",
    "\n",
    "We'll store the data as a csv file called `twitter_archive_master.csv`"
   ]
  },
  {
   "cell_type": "code",
   "execution_count": 118,
   "id": "e454d702",
   "metadata": {},
   "outputs": [],
   "source": [
    "twitter_archive_master.to_csv('twitter_archive_master.csv',index=False, encoding = 'utf-8')"
   ]
  },
  {
   "cell_type": "markdown",
   "id": "0aa2b338",
   "metadata": {},
   "source": [
    "<h1>Analyze and Visualize Data</h1>"
   ]
  },
  {
   "cell_type": "code",
   "execution_count": 188,
   "id": "2c84425f",
   "metadata": {},
   "outputs": [],
   "source": [
    "twitter_archive_master = pd.read_csv('twitter_archive_master.csv')"
   ]
  },
  {
   "cell_type": "code",
   "execution_count": 189,
   "id": "4b28ecac",
   "metadata": {},
   "outputs": [],
   "source": [
    "#create a column combining the score from retweet and favorite\n",
    "twitter_archive_master['engagement_score'] = twitter_archive_master['retweet_count'] + twitter_archive_master['favorite_count']"
   ]
  },
  {
   "cell_type": "markdown",
   "id": "4893cac2",
   "metadata": {},
   "source": [
    "<h3>1. Top 10 Highest rated dog breeds on average</h3>\n",
    "\n",
    "These are dog breeds which receive the highest average rating, we'll only consider dog breeds with at least 20 ratings "
   ]
  },
  {
   "cell_type": "code",
   "execution_count": 190,
   "id": "d553dd50",
   "metadata": {},
   "outputs": [],
   "source": [
    "# #groupby dog breed and get the average rating \n",
    "dfbreed = twitter_archive_master.groupby(['prediction_one'], as_index = False)['rating_numerator'].mean()\n",
    "dfbreedcount = twitter_archive_master.groupby(['prediction_one'], as_index = False)['rating_numerator'].count()\n",
    "\n",
    "# #merge the dfbreed and dfbreedcount dataframes\n",
    "dfbreed = dfbreed.merge(dfbreedcount, how ='inner',on='prediction_one')\n",
    "dfbreed.rename(columns = {\"rating_numerator_x\":\"average_rating\",\"rating_numerator_y\":\"rating_count\"},inplace=True)\n",
    "dfbreed.sort_values(by=\"average_rating\",ascending = False,inplace =True)\n",
    "\n",
    "# #filter the dataset for dog breeds with at least 20 ratings\n",
    "dfbreed = dfbreed.query('rating_count >=20')\n",
    "dfbreed.reset_index(drop=True,inplace = True)\n"
   ]
  },
  {
   "cell_type": "code",
   "execution_count": 191,
   "id": "617f9077",
   "metadata": {
    "scrolled": false
   },
   "outputs": [
    {
     "name": "stderr",
     "output_type": "stream",
     "text": [
      "C:\\ProgramData\\Anaconda3\\lib\\site-packages\\pandas\\core\\frame.py:5039: SettingWithCopyWarning: \n",
      "A value is trying to be set on a copy of a slice from a DataFrame\n",
      "\n",
      "See the caveats in the documentation: https://pandas.pydata.org/pandas-docs/stable/user_guide/indexing.html#returning-a-view-versus-a-copy\n",
      "  return super().rename(\n"
     ]
    },
    {
     "data": {
      "text/html": [
       "<div>\n",
       "<style scoped>\n",
       "    .dataframe tbody tr th:only-of-type {\n",
       "        vertical-align: middle;\n",
       "    }\n",
       "\n",
       "    .dataframe tbody tr th {\n",
       "        vertical-align: top;\n",
       "    }\n",
       "\n",
       "    .dataframe thead th {\n",
       "        text-align: right;\n",
       "    }\n",
       "</style>\n",
       "<table border=\"1\" class=\"dataframe\">\n",
       "  <thead>\n",
       "    <tr style=\"text-align: right;\">\n",
       "      <th></th>\n",
       "      <th>dog_breed</th>\n",
       "      <th>average_rating</th>\n",
       "      <th>rating_count</th>\n",
       "    </tr>\n",
       "  </thead>\n",
       "  <tbody>\n",
       "    <tr>\n",
       "      <th>0</th>\n",
       "      <td>Samoyed</td>\n",
       "      <td>11.738095</td>\n",
       "      <td>42</td>\n",
       "    </tr>\n",
       "    <tr>\n",
       "      <th>1</th>\n",
       "      <td>Golden_retriever</td>\n",
       "      <td>11.637584</td>\n",
       "      <td>149</td>\n",
       "    </tr>\n",
       "    <tr>\n",
       "      <th>2</th>\n",
       "      <td>Chow</td>\n",
       "      <td>11.636364</td>\n",
       "      <td>44</td>\n",
       "    </tr>\n",
       "    <tr>\n",
       "      <th>3</th>\n",
       "      <td>Pembroke</td>\n",
       "      <td>11.443182</td>\n",
       "      <td>88</td>\n",
       "    </tr>\n",
       "    <tr>\n",
       "      <th>4</th>\n",
       "      <td>Cocker_spaniel</td>\n",
       "      <td>11.400000</td>\n",
       "      <td>30</td>\n",
       "    </tr>\n",
       "    <tr>\n",
       "      <th>5</th>\n",
       "      <td>Siberian_husky</td>\n",
       "      <td>11.300000</td>\n",
       "      <td>20</td>\n",
       "    </tr>\n",
       "    <tr>\n",
       "      <th>6</th>\n",
       "      <td>French_bulldog</td>\n",
       "      <td>11.240000</td>\n",
       "      <td>25</td>\n",
       "    </tr>\n",
       "    <tr>\n",
       "      <th>7</th>\n",
       "      <td>Pomeranian</td>\n",
       "      <td>11.135135</td>\n",
       "      <td>37</td>\n",
       "    </tr>\n",
       "    <tr>\n",
       "      <th>8</th>\n",
       "      <td>Labrador_retriever</td>\n",
       "      <td>11.114583</td>\n",
       "      <td>96</td>\n",
       "    </tr>\n",
       "    <tr>\n",
       "      <th>9</th>\n",
       "      <td>Toy_poodle</td>\n",
       "      <td>11.105263</td>\n",
       "      <td>38</td>\n",
       "    </tr>\n",
       "  </tbody>\n",
       "</table>\n",
       "</div>"
      ],
      "text/plain": [
       "            dog_breed  average_rating  rating_count\n",
       "0             Samoyed       11.738095            42\n",
       "1    Golden_retriever       11.637584           149\n",
       "2                Chow       11.636364            44\n",
       "3            Pembroke       11.443182            88\n",
       "4      Cocker_spaniel       11.400000            30\n",
       "5      Siberian_husky       11.300000            20\n",
       "6      French_bulldog       11.240000            25\n",
       "7          Pomeranian       11.135135            37\n",
       "8  Labrador_retriever       11.114583            96\n",
       "9          Toy_poodle       11.105263            38"
      ]
     },
     "execution_count": 191,
     "metadata": {},
     "output_type": "execute_result"
    }
   ],
   "source": [
    "dfbreed10 = dfbreed.head(10)\n",
    "dfbreed10.rename(columns = {\"prediction_one\":\"dog_breed\"},inplace=True)\n",
    "dfbreed10"
   ]
  },
  {
   "cell_type": "code",
   "execution_count": 192,
   "id": "fc8cca05",
   "metadata": {},
   "outputs": [
    {
     "data": {
      "text/plain": [
       "Text(0, 0.5, 'average rating')"
      ]
     },
     "execution_count": 192,
     "metadata": {},
     "output_type": "execute_result"
    },
    {
     "data": {
      "image/png": "[encoded data removed]",
      "text/plain": [
       "<Figure size 1080x576 with 1 Axes>"
      ]
     },
     "metadata": {},
     "output_type": "display_data"
    }
   ],
   "source": [
    "#Visualize the count\n",
    "sns.set(rc = {'figure.figsize':(15,8)})\n",
    "dogs= sns.barplot(x='dog_breed', y='average_rating', data = dfbreed10)\n",
    "dogs.set_title('Top 10 Highest rated dog breeds',fontdict = { 'fontsize': 20})\n",
    "dogs.set_xlabel('dog breeds',fontdict = { 'fontsize': 15} )\n",
    "dogs.set_ylabel('average rating',fontdict = { 'fontsize': 15} )"
   ]
  },
  {
   "cell_type": "markdown",
   "id": "1557105e",
   "metadata": {},
   "source": [
    "<h3>2. Most popular dog sizes</h3>\n",
    "\n",
    "Which dog size got the most attention? "
   ]
  },
  {
   "cell_type": "code",
   "execution_count": 193,
   "id": "01e7f553",
   "metadata": {},
   "outputs": [],
   "source": [
    "dfsize =twitter_archive_master.groupby(['dog_stage'], as_index = False)['engagement_score'].sum()\n",
    "dfsize.sort_values(by=\"engagement_score\",ascending = False,inplace =True)\n",
    "dfsize = dfsize.drop(labels=4, axis=0)\n",
    "dfsize.reset_index(drop=True,inplace=True)"
   ]
  },
  {
   "cell_type": "code",
   "execution_count": 194,
   "id": "cd5d128c",
   "metadata": {},
   "outputs": [
    {
     "data": {
      "text/html": [
       "<div>\n",
       "<style scoped>\n",
       "    .dataframe tbody tr th:only-of-type {\n",
       "        vertical-align: middle;\n",
       "    }\n",
       "\n",
       "    .dataframe tbody tr th {\n",
       "        vertical-align: top;\n",
       "    }\n",
       "\n",
       "    .dataframe thead th {\n",
       "        text-align: right;\n",
       "    }\n",
       "</style>\n",
       "<table border=\"1\" class=\"dataframe\">\n",
       "  <thead>\n",
       "    <tr style=\"text-align: right;\">\n",
       "      <th></th>\n",
       "      <th>dog_stage</th>\n",
       "      <th>engagement_score</th>\n",
       "    </tr>\n",
       "  </thead>\n",
       "  <tbody>\n",
       "    <tr>\n",
       "      <th>0</th>\n",
       "      <td>pupper</td>\n",
       "      <td>1683634</td>\n",
       "    </tr>\n",
       "    <tr>\n",
       "      <th>1</th>\n",
       "      <td>doggo</td>\n",
       "      <td>1523702</td>\n",
       "    </tr>\n",
       "    <tr>\n",
       "      <th>2</th>\n",
       "      <td>puppo</td>\n",
       "      <td>553944</td>\n",
       "    </tr>\n",
       "    <tr>\n",
       "      <th>3</th>\n",
       "      <td>doggo, pupper</td>\n",
       "      <td>158329</td>\n",
       "    </tr>\n",
       "    <tr>\n",
       "      <th>4</th>\n",
       "      <td>doggo, puppo</td>\n",
       "      <td>58248</td>\n",
       "    </tr>\n",
       "    <tr>\n",
       "      <th>5</th>\n",
       "      <td>doggo, floofer</td>\n",
       "      <td>17695</td>\n",
       "    </tr>\n",
       "  </tbody>\n",
       "</table>\n",
       "</div>"
      ],
      "text/plain": [
       "        dog_stage  engagement_score\n",
       "0          pupper           1683634\n",
       "1           doggo           1523702\n",
       "2           puppo            553944\n",
       "3   doggo, pupper            158329\n",
       "4    doggo, puppo             58248\n",
       "5  doggo, floofer             17695"
      ]
     },
     "execution_count": 194,
     "metadata": {},
     "output_type": "execute_result"
    }
   ],
   "source": [
    "dfsize"
   ]
  },
  {
   "cell_type": "markdown",
   "id": "07eb30d3",
   "metadata": {},
   "source": [
    "<h3>3. Top 10 most popular dog breeds</h3>"
   ]
  },
  {
   "cell_type": "code",
   "execution_count": 195,
   "id": "2a5d15e5",
   "metadata": {},
   "outputs": [
    {
     "data": {
      "image/png": "[encoded data removed]",
      "text/plain": [
       "<Figure size 1440x432 with 1 Axes>"
      ]
     },
     "metadata": {},
     "output_type": "display_data"
    }
   ],
   "source": [
    "plt.figure(figsize = (20,6))\n",
    "\n",
    "ax = sns.barplot(x = twitter_archive_master['prediction_one'].value_counts()[0:10].index,\n",
    "            y =twitter_archive_master['rating_numerator'].value_counts()[0:10],\n",
    "            data = twitter_archive_master);\n",
    "\n",
    "ax.set_xticklabels(ax.get_xticklabels(),rotation = 90, fontsize = 15);\n",
    "\n",
    "plt.xlabel(\"Dog Breeds\",fontsize = 20);\n",
    "plt.ylabel(\"Prediction Count\",fontsize = 20);\n",
    "plt.title(\"Top Dog Breeds\",fontsize = 20);"
   ]
  },
  {
   "cell_type": "markdown",
   "id": "f20b6c91",
   "metadata": {},
   "source": [
    "<h3>4. Does higher ratings correlate with higher favorite and retweet count?</h3> \n",
    "\n",
    "We'd plot a scatterplot and correlation matrix of  `combined_score` column and `ratings_numerator` column to determine this relationship"
   ]
  },
  {
   "cell_type": "code",
   "execution_count": 196,
   "id": "c953bd9a",
   "metadata": {
    "scrolled": true
   },
   "outputs": [
    {
     "name": "stderr",
     "output_type": "stream",
     "text": [
      "*c* argument looks like a single numeric RGB or RGBA sequence, which should be avoided as value-mapping will have precedence in case its length matches with *x* & *y*.  Please use the *color* keyword-argument or provide a 2D array with a single row if you intend to specify the same RGB or RGBA value for all points.\n"
     ]
    },
    {
     "data": {
      "text/plain": [
       "<Figure size 1440x720 with 0 Axes>"
      ]
     },
     "metadata": {},
     "output_type": "display_data"
    },
    {
     "data": {
      "image/png": "[encoded data removed]",
      "text/plain": [
       "<Figure size 1080x576 with 1 Axes>"
      ]
     },
     "metadata": {},
     "output_type": "display_data"
    }
   ],
   "source": [
    "plt.figure(figsize=(20,10))\n",
    "twitter_archive_master.plot(kind = 'scatter', x = 'engagement_score', y = 'rating_numerator')\n",
    "plt.xlim((0,200000))\n",
    "plt.ylim((0,30))\n",
    "plt.xlabel('engagement count')\n",
    "plt.ylabel('rating count')\n",
    "plt.title('engagement count Vs rating count');\n"
   ]
  },
  {
   "cell_type": "code",
   "execution_count": 197,
   "id": "bda403b1",
   "metadata": {},
   "outputs": [
    {
     "data": {
      "image/png": "[encoded data removed]",
      "text/plain": [
       "<Figure size 432x504 with 2 Axes>"
      ]
     },
     "metadata": {},
     "output_type": "display_data"
    }
   ],
   "source": [
    "f,ax = plt.subplots(figsize=(6, 7))\n",
    "sns.heatmap(twitter_archive_master[['rating_numerator', 'engagement_score']].corr(), annot=True)\n",
    "plt.title('Correlation Matrix for ratings and engagement score');"
   ]
  },
  {
   "cell_type": "markdown",
   "id": "a99946f9",
   "metadata": {},
   "source": [
    "From the scatterplot and correlation matrix above, we have determined that there is no meaningful relationship between the combined count of retweets and favorites and rating"
   ]
  },
  {
   "cell_type": "code",
   "execution_count": null,
   "id": "2e394a4f",
   "metadata": {},
   "outputs": [],
   "source": []
  }
 ],
 "metadata": {
  "kernelspec": {
   "display_name": "Python 3 (ipykernel)",
   "language": "python",
   "name": "python3"
  },
  "language_info": {
   "codemirror_mode": {
    "name": "ipython",
    "version": 3
   },
   "file_extension": ".py",
   "mimetype": "text/x-python",
   "name": "python",
   "nbconvert_exporter": "python",
   "pygments_lexer": "ipython3",
   "version": "3.9.7"
  }
 },
 "nbformat": 4,
 "nbformat_minor": 5
}
